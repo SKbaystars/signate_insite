{
  "nbformat": 4,
  "nbformat_minor": 0,
  "metadata": {
    "colab": {
      "name": "signate_insite.ipynb",
      "provenance": [],
      "collapsed_sections": []
    },
    "kernelspec": {
      "name": "python3",
      "display_name": "Python 3"
    },
    "accelerator": "GPU"
  },
  "cells": [
    {
      "cell_type": "code",
      "metadata": {
        "id": "ZTq8fkpXxTQM",
        "colab_type": "code",
        "colab": {
          "base_uri": "https://localhost:8080/",
          "height": 377
        },
        "outputId": "71b0767a-da9e-4aa8-934c-7dc5c4e08621"
      },
      "source": [
        "!nvidia-smi"
      ],
      "execution_count": null,
      "outputs": [
        {
          "output_type": "stream",
          "text": [
            "Wed Aug 19 08:14:29 2020       \n",
            "+-----------------------------------------------------------------------------+\n",
            "| NVIDIA-SMI 450.57       Driver Version: 418.67       CUDA Version: 10.1     |\n",
            "|-------------------------------+----------------------+----------------------+\n",
            "| GPU  Name        Persistence-M| Bus-Id        Disp.A | Volatile Uncorr. ECC |\n",
            "| Fan  Temp  Perf  Pwr:Usage/Cap|         Memory-Usage | GPU-Util  Compute M. |\n",
            "|                               |                      |               MIG M. |\n",
            "|===============================+======================+======================|\n",
            "|   0  Tesla P100-PCIE...  Off  | 00000000:00:04.0 Off |                    0 |\n",
            "| N/A   37C    P0    26W / 250W |      0MiB / 16280MiB |      0%      Default |\n",
            "|                               |                      |                 ERR! |\n",
            "+-------------------------------+----------------------+----------------------+\n",
            "                                                                               \n",
            "+-----------------------------------------------------------------------------+\n",
            "| Processes:                                                                  |\n",
            "|  GPU   GI   CI        PID   Type   Process name                  GPU Memory |\n",
            "|        ID   ID                                                   Usage      |\n",
            "|=============================================================================|\n",
            "|  No running processes found                                                 |\n",
            "+-----------------------------------------------------------------------------+\n"
          ],
          "name": "stdout"
        }
      ]
    },
    {
      "cell_type": "code",
      "metadata": {
        "id": "saxWsbwMxQ9x",
        "colab_type": "code",
        "colab": {
          "base_uri": "https://localhost:8080/",
          "height": 1000
        },
        "outputId": "5dacdb10-abf2-45bb-af24-000fa1665dfb"
      },
      "source": [
        "!pip install simpletransformers\n",
        "!pip install transformers\n"
      ],
      "execution_count": 1,
      "outputs": [
        {
          "output_type": "stream",
          "text": [
            "Collecting simpletransformers\n",
            "\u001b[?25l  Downloading https://files.pythonhosted.org/packages/14/f2/f0e219441ba3705dcfc6a4552171e177fa0f6d20df9adb62d94f76ff9fe6/simpletransformers-0.47.3-py3-none-any.whl (208kB)\n",
            "\u001b[K     |████████████████████████████████| 215kB 2.8MB/s \n",
            "\u001b[?25hCollecting transformers>=3.0.2\n",
            "\u001b[?25l  Downloading https://files.pythonhosted.org/packages/27/3c/91ed8f5c4e7ef3227b4119200fc0ed4b4fd965b1f0172021c25701087825/transformers-3.0.2-py3-none-any.whl (769kB)\n",
            "\u001b[K     |████████████████████████████████| 778kB 8.9MB/s \n",
            "\u001b[?25hRequirement already satisfied: scikit-learn in /usr/local/lib/python3.6/dist-packages (from simpletransformers) (0.22.2.post1)\n",
            "Requirement already satisfied: scipy in /usr/local/lib/python3.6/dist-packages (from simpletransformers) (1.4.1)\n",
            "Requirement already satisfied: pandas in /usr/local/lib/python3.6/dist-packages (from simpletransformers) (1.0.5)\n",
            "Requirement already satisfied: requests in /usr/local/lib/python3.6/dist-packages (from simpletransformers) (2.23.0)\n",
            "Collecting seqeval\n",
            "  Downloading https://files.pythonhosted.org/packages/34/91/068aca8d60ce56dd9ba4506850e876aba5e66a6f2f29aa223224b50df0de/seqeval-0.0.12.tar.gz\n",
            "Collecting tokenizers\n",
            "\u001b[?25l  Downloading https://files.pythonhosted.org/packages/e9/ee/fedc3509145ad60fe5b418783f4a4c1b5462a4f0e8c7bbdbda52bdcda486/tokenizers-0.8.1-cp36-cp36m-manylinux1_x86_64.whl (3.0MB)\n",
            "\u001b[K     |████████████████████████████████| 3.0MB 13.8MB/s \n",
            "\u001b[?25hCollecting tqdm>=4.47.0\n",
            "\u001b[33m  WARNING: Retrying (Retry(total=4, connect=None, read=None, redirect=None, status=None)) after connection broken by 'ProtocolError('Connection aborted.', ConnectionResetError(104, 'Connection reset by peer'))': /packages/28/7e/281edb5bc3274dfb894d90f4dbacfceaca381c2435ec6187a2c6f329aed7/tqdm-4.48.2-py2.py3-none-any.whl\u001b[0m\n",
            "\u001b[?25l  Downloading https://files.pythonhosted.org/packages/28/7e/281edb5bc3274dfb894d90f4dbacfceaca381c2435ec6187a2c6f329aed7/tqdm-4.48.2-py2.py3-none-any.whl (68kB)\n",
            "\u001b[K     |████████████████████████████████| 71kB 2.1MB/s \n",
            "\u001b[?25hCollecting wandb\n",
            "\u001b[?25l  Downloading https://files.pythonhosted.org/packages/65/14/e7988204e4d4c9a349e73362399263b1c17f2b4d8a753864444f9eac1c92/wandb-0.9.5-py2.py3-none-any.whl (1.4MB)\n",
            "\u001b[K     |████████████████████████████████| 1.4MB 7.2MB/s \n",
            "\u001b[?25hRequirement already satisfied: regex in /usr/local/lib/python3.6/dist-packages (from simpletransformers) (2019.12.20)\n",
            "Requirement already satisfied: numpy in /usr/local/lib/python3.6/dist-packages (from simpletransformers) (1.18.5)\n",
            "Collecting tensorboardx\n",
            "\u001b[?25l  Downloading https://files.pythonhosted.org/packages/af/0c/4f41bcd45db376e6fe5c619c01100e9b7531c55791b7244815bac6eac32c/tensorboardX-2.1-py2.py3-none-any.whl (308kB)\n",
            "\u001b[K     |████████████████████████████████| 317kB 19.0MB/s \n",
            "\u001b[?25hCollecting streamlit\n",
            "\u001b[?25l  Downloading https://files.pythonhosted.org/packages/7a/95/c1f097bfd0ea06f97d02e09e6e0af9bfa4da2c1e761112d5916bfd3bf846/streamlit-0.65.2-py2.py3-none-any.whl (7.2MB)\n",
            "\u001b[K     |████████████████████████████████| 7.2MB 24.1MB/s \n",
            "\u001b[?25hRequirement already satisfied: dataclasses; python_version < \"3.7\" in /usr/local/lib/python3.6/dist-packages (from transformers>=3.0.2->simpletransformers) (0.7)\n",
            "Requirement already satisfied: filelock in /usr/local/lib/python3.6/dist-packages (from transformers>=3.0.2->simpletransformers) (3.0.12)\n",
            "Requirement already satisfied: packaging in /usr/local/lib/python3.6/dist-packages (from transformers>=3.0.2->simpletransformers) (20.4)\n",
            "Collecting sacremoses\n",
            "\u001b[?25l  Downloading https://files.pythonhosted.org/packages/7d/34/09d19aff26edcc8eb2a01bed8e98f13a1537005d31e95233fd48216eed10/sacremoses-0.0.43.tar.gz (883kB)\n",
            "\u001b[K     |████████████████████████████████| 890kB 53.0MB/s \n",
            "\u001b[?25hCollecting sentencepiece!=0.1.92\n",
            "\u001b[?25l  Downloading https://files.pythonhosted.org/packages/d4/a4/d0a884c4300004a78cca907a6ff9a5e9fe4f090f5d95ab341c53d28cbc58/sentencepiece-0.1.91-cp36-cp36m-manylinux1_x86_64.whl (1.1MB)\n",
            "\u001b[K     |████████████████████████████████| 1.1MB 45.1MB/s \n",
            "\u001b[?25hRequirement already satisfied: joblib>=0.11 in /usr/local/lib/python3.6/dist-packages (from scikit-learn->simpletransformers) (0.16.0)\n",
            "Requirement already satisfied: pytz>=2017.2 in /usr/local/lib/python3.6/dist-packages (from pandas->simpletransformers) (2018.9)\n",
            "Requirement already satisfied: python-dateutil>=2.6.1 in /usr/local/lib/python3.6/dist-packages (from pandas->simpletransformers) (2.8.1)\n",
            "Requirement already satisfied: urllib3!=1.25.0,!=1.25.1,<1.26,>=1.21.1 in /usr/local/lib/python3.6/dist-packages (from requests->simpletransformers) (1.24.3)\n",
            "Requirement already satisfied: idna<3,>=2.5 in /usr/local/lib/python3.6/dist-packages (from requests->simpletransformers) (2.10)\n",
            "Requirement already satisfied: chardet<4,>=3.0.2 in /usr/local/lib/python3.6/dist-packages (from requests->simpletransformers) (3.0.4)\n",
            "Requirement already satisfied: certifi>=2017.4.17 in /usr/local/lib/python3.6/dist-packages (from requests->simpletransformers) (2020.6.20)\n",
            "Requirement already satisfied: Keras>=2.2.4 in /usr/local/lib/python3.6/dist-packages (from seqeval->simpletransformers) (2.4.3)\n",
            "Collecting gql==0.2.0\n",
            "  Downloading https://files.pythonhosted.org/packages/c4/6f/cf9a3056045518f06184e804bae89390eb706168349daa9dff8ac609962a/gql-0.2.0.tar.gz\n",
            "Requirement already satisfied: PyYAML>=3.10 in /usr/local/lib/python3.6/dist-packages (from wandb->simpletransformers) (3.13)\n",
            "Requirement already satisfied: nvidia-ml-py3>=7.352.0 in /usr/local/lib/python3.6/dist-packages (from wandb->simpletransformers) (7.352.0)\n",
            "Collecting shortuuid>=0.5.0\n",
            "  Downloading https://files.pythonhosted.org/packages/25/a6/2ecc1daa6a304e7f1b216f0896b26156b78e7c38e1211e9b798b4716c53d/shortuuid-1.0.1-py3-none-any.whl\n",
            "Collecting subprocess32>=3.5.3\n",
            "\u001b[?25l  Downloading https://files.pythonhosted.org/packages/32/c8/564be4d12629b912ea431f1a50eb8b3b9d00f1a0b1ceff17f266be190007/subprocess32-3.5.4.tar.gz (97kB)\n",
            "\u001b[K     |████████████████████████████████| 102kB 12.8MB/s \n",
            "\u001b[?25hCollecting GitPython>=1.0.0\n",
            "\u001b[?25l  Downloading https://files.pythonhosted.org/packages/f9/1e/a45320cab182bf1c8656107b3d4c042e659742822fc6bff150d769a984dd/GitPython-3.1.7-py3-none-any.whl (158kB)\n",
            "\u001b[K     |████████████████████████████████| 163kB 46.9MB/s \n",
            "\u001b[?25hRequirement already satisfied: psutil>=5.0.0 in /usr/local/lib/python3.6/dist-packages (from wandb->simpletransformers) (5.4.8)\n",
            "Collecting configparser>=3.8.1\n",
            "  Downloading https://files.pythonhosted.org/packages/4b/6b/01baa293090240cf0562cc5eccb69c6f5006282127f2b846fad011305c79/configparser-5.0.0-py3-none-any.whl\n",
            "Requirement already satisfied: Click>=7.0 in /usr/local/lib/python3.6/dist-packages (from wandb->simpletransformers) (7.1.2)\n",
            "Requirement already satisfied: six>=1.10.0 in /usr/local/lib/python3.6/dist-packages (from wandb->simpletransformers) (1.15.0)\n",
            "Collecting watchdog>=0.8.3\n",
            "\u001b[?25l  Downloading https://files.pythonhosted.org/packages/0e/06/121302598a4fc01aca942d937f4a2c33430b7181137b35758913a8db10ad/watchdog-0.10.3.tar.gz (94kB)\n",
            "\u001b[K     |████████████████████████████████| 102kB 12.1MB/s \n",
            "\u001b[?25hCollecting docker-pycreds>=0.4.0\n",
            "  Downloading https://files.pythonhosted.org/packages/f5/e8/f6bd1eee09314e7e6dee49cbe2c5e22314ccdb38db16c9fc72d2fa80d054/docker_pycreds-0.4.0-py2.py3-none-any.whl\n",
            "Collecting sentry-sdk>=0.4.0\n",
            "\u001b[?25l  Downloading https://files.pythonhosted.org/packages/8f/0f/e6ae366e926589878f2b1e41485473ee0368e5b1b62fd0f8c0bc8311eb75/sentry_sdk-0.17.0-py2.py3-none-any.whl (115kB)\n",
            "\u001b[K     |████████████████████████████████| 122kB 31.9MB/s \n",
            "\u001b[?25hRequirement already satisfied: protobuf>=3.8.0 in /usr/local/lib/python3.6/dist-packages (from tensorboardx->simpletransformers) (3.12.4)\n",
            "Collecting enum-compat\n",
            "  Downloading https://files.pythonhosted.org/packages/55/ae/467bc4509246283bb59746e21a1a2f5a8aecbef56b1fa6eaca78cd438c8b/enum_compat-0.0.3-py3-none-any.whl\n",
            "Requirement already satisfied: pyarrow in /usr/local/lib/python3.6/dist-packages (from streamlit->simpletransformers) (0.14.1)\n",
            "Collecting blinker\n",
            "\u001b[?25l  Downloading https://files.pythonhosted.org/packages/1b/51/e2a9f3b757eb802f61dc1f2b09c8c99f6eb01cf06416c0671253536517b6/blinker-1.4.tar.gz (111kB)\n",
            "\u001b[K     |████████████████████████████████| 112kB 57.6MB/s \n",
            "\u001b[?25hCollecting pydeck>=0.1.dev5\n",
            "\u001b[?25l  Downloading https://files.pythonhosted.org/packages/51/1e/296f4108bf357e684617a776ecaf06ee93b43e30c35996dfac1aa985aa6c/pydeck-0.5.0b1-py2.py3-none-any.whl (4.4MB)\n",
            "\u001b[K     |████████████████████████████████| 4.4MB 45.5MB/s \n",
            "\u001b[?25hRequirement already satisfied: cachetools>=4.0 in /usr/local/lib/python3.6/dist-packages (from streamlit->simpletransformers) (4.1.1)\n",
            "Collecting base58\n",
            "  Downloading https://files.pythonhosted.org/packages/3c/03/58572025c77b9e6027155b272a1b96298e711cd4f95c24967f7137ab0c4b/base58-2.0.1-py3-none-any.whl\n",
            "Requirement already satisfied: astor in /usr/local/lib/python3.6/dist-packages (from streamlit->simpletransformers) (0.8.1)\n",
            "Requirement already satisfied: altair>=3.2.0 in /usr/local/lib/python3.6/dist-packages (from streamlit->simpletransformers) (4.1.0)\n",
            "Requirement already satisfied: pillow>=6.2.0 in /usr/local/lib/python3.6/dist-packages (from streamlit->simpletransformers) (7.0.0)\n",
            "Requirement already satisfied: botocore>=1.13.44 in /usr/local/lib/python3.6/dist-packages (from streamlit->simpletransformers) (1.17.47)\n",
            "Collecting validators\n",
            "  Downloading https://files.pythonhosted.org/packages/89/3b/23e14394d0a719d1a9f2e1944a1d227ac7107a3383aa7e8eba60003e7266/validators-0.18.0-py3-none-any.whl\n",
            "Requirement already satisfied: tzlocal in /usr/local/lib/python3.6/dist-packages (from streamlit->simpletransformers) (1.5.1)\n",
            "Requirement already satisfied: toml in /usr/local/lib/python3.6/dist-packages (from streamlit->simpletransformers) (0.10.1)\n",
            "Requirement already satisfied: tornado>=5.0 in /usr/local/lib/python3.6/dist-packages (from streamlit->simpletransformers) (5.1.1)\n",
            "Requirement already satisfied: boto3 in /usr/local/lib/python3.6/dist-packages (from streamlit->simpletransformers) (1.14.47)\n",
            "Requirement already satisfied: pyparsing>=2.0.2 in /usr/local/lib/python3.6/dist-packages (from packaging->transformers>=3.0.2->simpletransformers) (2.4.7)\n",
            "Requirement already satisfied: h5py in /usr/local/lib/python3.6/dist-packages (from Keras>=2.2.4->seqeval->simpletransformers) (2.10.0)\n",
            "Collecting graphql-core<2,>=0.5.0\n",
            "\u001b[?25l  Downloading https://files.pythonhosted.org/packages/b0/89/00ad5e07524d8c523b14d70c685e0299a8b0de6d0727e368c41b89b7ed0b/graphql-core-1.1.tar.gz (70kB)\n",
            "\u001b[K     |████████████████████████████████| 71kB 10.8MB/s \n",
            "\u001b[?25hRequirement already satisfied: promise<3,>=2.0 in /usr/local/lib/python3.6/dist-packages (from gql==0.2.0->wandb->simpletransformers) (2.3)\n",
            "Collecting gitdb<5,>=4.0.1\n",
            "\u001b[?25l  Downloading https://files.pythonhosted.org/packages/48/11/d1800bca0a3bae820b84b7d813ad1eff15a48a64caea9c823fc8c1b119e8/gitdb-4.0.5-py3-none-any.whl (63kB)\n",
            "\u001b[K     |████████████████████████████████| 71kB 11.0MB/s \n",
            "\u001b[?25hCollecting pathtools>=0.1.1\n",
            "  Downloading https://files.pythonhosted.org/packages/e7/7f/470d6fcdf23f9f3518f6b0b76be9df16dcc8630ad409947f8be2eb0ed13a/pathtools-0.1.2.tar.gz\n",
            "Requirement already satisfied: setuptools in /usr/local/lib/python3.6/dist-packages (from protobuf>=3.8.0->tensorboardx->simpletransformers) (49.6.0)\n",
            "Requirement already satisfied: traitlets>=4.3.2 in /usr/local/lib/python3.6/dist-packages (from pydeck>=0.1.dev5->streamlit->simpletransformers) (4.3.3)\n",
            "Collecting ipykernel>=5.1.2; python_version >= \"3.4\"\n",
            "\u001b[?25l  Downloading https://files.pythonhosted.org/packages/52/19/c2812690d8b340987eecd2cbc18549b1d130b94c5d97fcbe49f5f8710edf/ipykernel-5.3.4-py3-none-any.whl (120kB)\n",
            "\u001b[K     |████████████████████████████████| 122kB 52.6MB/s \n",
            "\u001b[?25hRequirement already satisfied: ipywidgets>=7.0.0 in /usr/local/lib/python3.6/dist-packages (from pydeck>=0.1.dev5->streamlit->simpletransformers) (7.5.1)\n",
            "Requirement already satisfied: jinja2>=2.10.1 in /usr/local/lib/python3.6/dist-packages (from pydeck>=0.1.dev5->streamlit->simpletransformers) (2.11.2)\n",
            "Requirement already satisfied: toolz in /usr/local/lib/python3.6/dist-packages (from altair>=3.2.0->streamlit->simpletransformers) (0.10.0)\n",
            "Requirement already satisfied: entrypoints in /usr/local/lib/python3.6/dist-packages (from altair>=3.2.0->streamlit->simpletransformers) (0.3)\n",
            "Requirement already satisfied: jsonschema in /usr/local/lib/python3.6/dist-packages (from altair>=3.2.0->streamlit->simpletransformers) (2.6.0)\n",
            "Requirement already satisfied: jmespath<1.0.0,>=0.7.1 in /usr/local/lib/python3.6/dist-packages (from botocore>=1.13.44->streamlit->simpletransformers) (0.10.0)\n",
            "Requirement already satisfied: docutils<0.16,>=0.10 in /usr/local/lib/python3.6/dist-packages (from botocore>=1.13.44->streamlit->simpletransformers) (0.15.2)\n",
            "Requirement already satisfied: decorator>=3.4.0 in /usr/local/lib/python3.6/dist-packages (from validators->streamlit->simpletransformers) (4.4.2)\n",
            "Requirement already satisfied: s3transfer<0.4.0,>=0.3.0 in /usr/local/lib/python3.6/dist-packages (from boto3->streamlit->simpletransformers) (0.3.3)\n",
            "Collecting smmap<4,>=3.0.1\n",
            "  Downloading https://files.pythonhosted.org/packages/b0/9a/4d409a6234eb940e6a78dfdfc66156e7522262f5f2fecca07dc55915952d/smmap-3.0.4-py2.py3-none-any.whl\n",
            "Requirement already satisfied: ipython-genutils in /usr/local/lib/python3.6/dist-packages (from traitlets>=4.3.2->pydeck>=0.1.dev5->streamlit->simpletransformers) (0.2.0)\n",
            "Requirement already satisfied: jupyter-client in /usr/local/lib/python3.6/dist-packages (from ipykernel>=5.1.2; python_version >= \"3.4\"->pydeck>=0.1.dev5->streamlit->simpletransformers) (5.3.5)\n",
            "Requirement already satisfied: ipython>=5.0.0 in /usr/local/lib/python3.6/dist-packages (from ipykernel>=5.1.2; python_version >= \"3.4\"->pydeck>=0.1.dev5->streamlit->simpletransformers) (5.5.0)\n",
            "Requirement already satisfied: widgetsnbextension~=3.5.0 in /usr/local/lib/python3.6/dist-packages (from ipywidgets>=7.0.0->pydeck>=0.1.dev5->streamlit->simpletransformers) (3.5.1)\n",
            "Requirement already satisfied: nbformat>=4.2.0 in /usr/local/lib/python3.6/dist-packages (from ipywidgets>=7.0.0->pydeck>=0.1.dev5->streamlit->simpletransformers) (5.0.7)\n",
            "Requirement already satisfied: MarkupSafe>=0.23 in /usr/local/lib/python3.6/dist-packages (from jinja2>=2.10.1->pydeck>=0.1.dev5->streamlit->simpletransformers) (1.1.1)\n",
            "Requirement already satisfied: jupyter-core>=4.6.0 in /usr/local/lib/python3.6/dist-packages (from jupyter-client->ipykernel>=5.1.2; python_version >= \"3.4\"->pydeck>=0.1.dev5->streamlit->simpletransformers) (4.6.3)\n",
            "Requirement already satisfied: pyzmq>=13 in /usr/local/lib/python3.6/dist-packages (from jupyter-client->ipykernel>=5.1.2; python_version >= \"3.4\"->pydeck>=0.1.dev5->streamlit->simpletransformers) (19.0.2)\n",
            "Requirement already satisfied: pickleshare in /usr/local/lib/python3.6/dist-packages (from ipython>=5.0.0->ipykernel>=5.1.2; python_version >= \"3.4\"->pydeck>=0.1.dev5->streamlit->simpletransformers) (0.7.5)\n",
            "Requirement already satisfied: pexpect; sys_platform != \"win32\" in /usr/local/lib/python3.6/dist-packages (from ipython>=5.0.0->ipykernel>=5.1.2; python_version >= \"3.4\"->pydeck>=0.1.dev5->streamlit->simpletransformers) (4.8.0)\n",
            "Requirement already satisfied: pygments in /usr/local/lib/python3.6/dist-packages (from ipython>=5.0.0->ipykernel>=5.1.2; python_version >= \"3.4\"->pydeck>=0.1.dev5->streamlit->simpletransformers) (2.1.3)\n",
            "Requirement already satisfied: prompt-toolkit<2.0.0,>=1.0.4 in /usr/local/lib/python3.6/dist-packages (from ipython>=5.0.0->ipykernel>=5.1.2; python_version >= \"3.4\"->pydeck>=0.1.dev5->streamlit->simpletransformers) (1.0.18)\n",
            "Requirement already satisfied: simplegeneric>0.8 in /usr/local/lib/python3.6/dist-packages (from ipython>=5.0.0->ipykernel>=5.1.2; python_version >= \"3.4\"->pydeck>=0.1.dev5->streamlit->simpletransformers) (0.8.1)\n",
            "Requirement already satisfied: notebook>=4.4.1 in /usr/local/lib/python3.6/dist-packages (from widgetsnbextension~=3.5.0->ipywidgets>=7.0.0->pydeck>=0.1.dev5->streamlit->simpletransformers) (5.3.1)\n",
            "Requirement already satisfied: ptyprocess>=0.5 in /usr/local/lib/python3.6/dist-packages (from pexpect; sys_platform != \"win32\"->ipython>=5.0.0->ipykernel>=5.1.2; python_version >= \"3.4\"->pydeck>=0.1.dev5->streamlit->simpletransformers) (0.6.0)\n",
            "Requirement already satisfied: wcwidth in /usr/local/lib/python3.6/dist-packages (from prompt-toolkit<2.0.0,>=1.0.4->ipython>=5.0.0->ipykernel>=5.1.2; python_version >= \"3.4\"->pydeck>=0.1.dev5->streamlit->simpletransformers) (0.2.5)\n",
            "Requirement already satisfied: nbconvert in /usr/local/lib/python3.6/dist-packages (from notebook>=4.4.1->widgetsnbextension~=3.5.0->ipywidgets>=7.0.0->pydeck>=0.1.dev5->streamlit->simpletransformers) (5.6.1)\n",
            "Requirement already satisfied: Send2Trash in /usr/local/lib/python3.6/dist-packages (from notebook>=4.4.1->widgetsnbextension~=3.5.0->ipywidgets>=7.0.0->pydeck>=0.1.dev5->streamlit->simpletransformers) (1.5.0)\n",
            "Requirement already satisfied: terminado>=0.8.1 in /usr/local/lib/python3.6/dist-packages (from notebook>=4.4.1->widgetsnbextension~=3.5.0->ipywidgets>=7.0.0->pydeck>=0.1.dev5->streamlit->simpletransformers) (0.8.3)\n",
            "Requirement already satisfied: pandocfilters>=1.4.1 in /usr/local/lib/python3.6/dist-packages (from nbconvert->notebook>=4.4.1->widgetsnbextension~=3.5.0->ipywidgets>=7.0.0->pydeck>=0.1.dev5->streamlit->simpletransformers) (1.4.2)\n",
            "Requirement already satisfied: bleach in /usr/local/lib/python3.6/dist-packages (from nbconvert->notebook>=4.4.1->widgetsnbextension~=3.5.0->ipywidgets>=7.0.0->pydeck>=0.1.dev5->streamlit->simpletransformers) (3.1.5)\n",
            "Requirement already satisfied: defusedxml in /usr/local/lib/python3.6/dist-packages (from nbconvert->notebook>=4.4.1->widgetsnbextension~=3.5.0->ipywidgets>=7.0.0->pydeck>=0.1.dev5->streamlit->simpletransformers) (0.6.0)\n",
            "Requirement already satisfied: mistune<2,>=0.8.1 in /usr/local/lib/python3.6/dist-packages (from nbconvert->notebook>=4.4.1->widgetsnbextension~=3.5.0->ipywidgets>=7.0.0->pydeck>=0.1.dev5->streamlit->simpletransformers) (0.8.4)\n",
            "Requirement already satisfied: testpath in /usr/local/lib/python3.6/dist-packages (from nbconvert->notebook>=4.4.1->widgetsnbextension~=3.5.0->ipywidgets>=7.0.0->pydeck>=0.1.dev5->streamlit->simpletransformers) (0.4.4)\n",
            "Requirement already satisfied: webencodings in /usr/local/lib/python3.6/dist-packages (from bleach->nbconvert->notebook>=4.4.1->widgetsnbextension~=3.5.0->ipywidgets>=7.0.0->pydeck>=0.1.dev5->streamlit->simpletransformers) (0.5.1)\n",
            "Building wheels for collected packages: seqeval, sacremoses, gql, subprocess32, watchdog, blinker, graphql-core, pathtools\n",
            "  Building wheel for seqeval (setup.py) ... \u001b[?25l\u001b[?25hdone\n",
            "  Created wheel for seqeval: filename=seqeval-0.0.12-cp36-none-any.whl size=7423 sha256=5db29d3b181fa751cfb78563c33cfe23b3508f122629ba1c8ff4b8b586f2c5ca\n",
            "  Stored in directory: /root/.cache/pip/wheels/4f/32/0a/df3b340a82583566975377d65e724895b3fad101a3fb729f68\n",
            "  Building wheel for sacremoses (setup.py) ... \u001b[?25l\u001b[?25hdone\n",
            "  Created wheel for sacremoses: filename=sacremoses-0.0.43-cp36-none-any.whl size=893257 sha256=83275dfdb578f31bedfaaf9ac60072efb99dc7b7d7f86170f93943f6d0683aca\n",
            "  Stored in directory: /root/.cache/pip/wheels/29/3c/fd/7ce5c3f0666dab31a50123635e6fb5e19ceb42ce38d4e58f45\n",
            "  Building wheel for gql (setup.py) ... \u001b[?25l\u001b[?25hdone\n",
            "  Created wheel for gql: filename=gql-0.2.0-cp36-none-any.whl size=7630 sha256=540c835239f2c9ab52efc75f4733497e11c39917a71267dc27dc8ff3b931bb34\n",
            "  Stored in directory: /root/.cache/pip/wheels/ce/0e/7b/58a8a5268655b3ad74feef5aa97946f0addafb3cbb6bd2da23\n",
            "  Building wheel for subprocess32 (setup.py) ... \u001b[?25l\u001b[?25hdone\n",
            "  Created wheel for subprocess32: filename=subprocess32-3.5.4-cp36-none-any.whl size=6489 sha256=c4d93e2ff443325517086d676188efdebcf31c2cfa0bbd9986659efaa0c68e74\n",
            "  Stored in directory: /root/.cache/pip/wheels/68/39/1a/5e402bdfdf004af1786c8b853fd92f8c4a04f22aad179654d1\n",
            "  Building wheel for watchdog (setup.py) ... \u001b[?25l\u001b[?25hdone\n",
            "  Created wheel for watchdog: filename=watchdog-0.10.3-cp36-none-any.whl size=73873 sha256=5e0b73f8cf815de113f0e0f74177d130c971356b86d7ca72bab30e79facd65e5\n",
            "  Stored in directory: /root/.cache/pip/wheels/a8/1d/38/2c19bb311f67cc7b4d07a2ec5ea36ab1a0a0ea50db994a5bc7\n",
            "  Building wheel for blinker (setup.py) ... \u001b[?25l\u001b[?25hdone\n",
            "  Created wheel for blinker: filename=blinker-1.4-cp36-none-any.whl size=13450 sha256=e8a7c89209aca66ad78b5187d26cfd3ffe89216e862b9a0075c9adcbc38fda48\n",
            "  Stored in directory: /root/.cache/pip/wheels/92/a0/00/8690a57883956a301d91cf4ec999cc0b258b01e3f548f86e89\n",
            "  Building wheel for graphql-core (setup.py) ... \u001b[?25l\u001b[?25hdone\n",
            "  Created wheel for graphql-core: filename=graphql_core-1.1-cp36-none-any.whl size=104651 sha256=4f026632ae8749eaae4d18c7d3968bd4e45b28467f80aecc0ab9d5ae92aa3c38\n",
            "  Stored in directory: /root/.cache/pip/wheels/45/99/d7/c424029bb0fe910c63b68dbf2aa20d3283d023042521bcd7d5\n",
            "  Building wheel for pathtools (setup.py) ... \u001b[?25l\u001b[?25hdone\n",
            "  Created wheel for pathtools: filename=pathtools-0.1.2-cp36-none-any.whl size=8785 sha256=542a60b64e8e3a21e0adbea82f7dd25ad9c5177ad5d288f8bef5ded3bd143bcd\n",
            "  Stored in directory: /root/.cache/pip/wheels/0b/04/79/c3b0c3a0266a3cb4376da31e5bfe8bba0c489246968a68e843\n",
            "Successfully built seqeval sacremoses gql subprocess32 watchdog blinker graphql-core pathtools\n",
            "\u001b[31mERROR: google-colab 1.0.0 has requirement ipykernel~=4.10, but you'll have ipykernel 5.3.4 which is incompatible.\u001b[0m\n",
            "\u001b[31mERROR: transformers 3.0.2 has requirement tokenizers==0.8.1.rc1, but you'll have tokenizers 0.8.1 which is incompatible.\u001b[0m\n",
            "Installing collected packages: tokenizers, tqdm, sacremoses, sentencepiece, transformers, seqeval, graphql-core, gql, shortuuid, subprocess32, smmap, gitdb, GitPython, configparser, pathtools, watchdog, docker-pycreds, sentry-sdk, wandb, tensorboardx, enum-compat, blinker, ipykernel, pydeck, base58, validators, streamlit, simpletransformers\n",
            "  Found existing installation: tqdm 4.41.1\n",
            "    Uninstalling tqdm-4.41.1:\n",
            "      Successfully uninstalled tqdm-4.41.1\n",
            "  Found existing installation: ipykernel 4.10.1\n",
            "    Uninstalling ipykernel-4.10.1:\n",
            "      Successfully uninstalled ipykernel-4.10.1\n",
            "Successfully installed GitPython-3.1.7 base58-2.0.1 blinker-1.4 configparser-5.0.0 docker-pycreds-0.4.0 enum-compat-0.0.3 gitdb-4.0.5 gql-0.2.0 graphql-core-1.1 ipykernel-5.3.4 pathtools-0.1.2 pydeck-0.5.0b1 sacremoses-0.0.43 sentencepiece-0.1.91 sentry-sdk-0.17.0 seqeval-0.0.12 shortuuid-1.0.1 simpletransformers-0.47.3 smmap-3.0.4 streamlit-0.65.2 subprocess32-3.5.4 tensorboardx-2.1 tokenizers-0.8.1 tqdm-4.48.2 transformers-3.0.2 validators-0.18.0 wandb-0.9.5 watchdog-0.10.3\n"
          ],
          "name": "stdout"
        },
        {
          "output_type": "display_data",
          "data": {
            "application/vnd.colab-display-data+json": {
              "pip_warning": {
                "packages": [
                  "ipykernel"
                ]
              }
            }
          },
          "metadata": {
            "tags": []
          }
        },
        {
          "output_type": "stream",
          "text": [
            "Requirement already satisfied: transformers in /usr/local/lib/python3.6/dist-packages (3.0.2)\n",
            "Requirement already satisfied: dataclasses; python_version < \"3.7\" in /usr/local/lib/python3.6/dist-packages (from transformers) (0.7)\n",
            "Collecting tokenizers==0.8.1.rc1\n",
            "\u001b[?25l  Downloading https://files.pythonhosted.org/packages/40/d0/30d5f8d221a0ed981a186c8eb986ce1c94e3a6e87f994eae9f4aa5250217/tokenizers-0.8.1rc1-cp36-cp36m-manylinux1_x86_64.whl (3.0MB)\n",
            "\u001b[K     |████████████████████████████████| 3.0MB 2.6MB/s \n",
            "\u001b[?25hRequirement already satisfied: requests in /usr/local/lib/python3.6/dist-packages (from transformers) (2.23.0)\n",
            "Requirement already satisfied: tqdm>=4.27 in /usr/local/lib/python3.6/dist-packages (from transformers) (4.48.2)\n",
            "Requirement already satisfied: sentencepiece!=0.1.92 in /usr/local/lib/python3.6/dist-packages (from transformers) (0.1.91)\n",
            "Requirement already satisfied: packaging in /usr/local/lib/python3.6/dist-packages (from transformers) (20.4)\n",
            "Requirement already satisfied: numpy in /usr/local/lib/python3.6/dist-packages (from transformers) (1.18.5)\n",
            "Requirement already satisfied: regex!=2019.12.17 in /usr/local/lib/python3.6/dist-packages (from transformers) (2019.12.20)\n",
            "Requirement already satisfied: filelock in /usr/local/lib/python3.6/dist-packages (from transformers) (3.0.12)\n",
            "Requirement already satisfied: sacremoses in /usr/local/lib/python3.6/dist-packages (from transformers) (0.0.43)\n",
            "Requirement already satisfied: urllib3!=1.25.0,!=1.25.1,<1.26,>=1.21.1 in /usr/local/lib/python3.6/dist-packages (from requests->transformers) (1.24.3)\n",
            "Requirement already satisfied: chardet<4,>=3.0.2 in /usr/local/lib/python3.6/dist-packages (from requests->transformers) (3.0.4)\n",
            "Requirement already satisfied: certifi>=2017.4.17 in /usr/local/lib/python3.6/dist-packages (from requests->transformers) (2020.6.20)\n",
            "Requirement already satisfied: idna<3,>=2.5 in /usr/local/lib/python3.6/dist-packages (from requests->transformers) (2.10)\n",
            "Requirement already satisfied: pyparsing>=2.0.2 in /usr/local/lib/python3.6/dist-packages (from packaging->transformers) (2.4.7)\n",
            "Requirement already satisfied: six in /usr/local/lib/python3.6/dist-packages (from packaging->transformers) (1.15.0)\n",
            "Requirement already satisfied: click in /usr/local/lib/python3.6/dist-packages (from sacremoses->transformers) (7.1.2)\n",
            "Requirement already satisfied: joblib in /usr/local/lib/python3.6/dist-packages (from sacremoses->transformers) (0.16.0)\n",
            "Installing collected packages: tokenizers\n",
            "  Found existing installation: tokenizers 0.8.1\n",
            "    Uninstalling tokenizers-0.8.1:\n",
            "      Successfully uninstalled tokenizers-0.8.1\n",
            "Successfully installed tokenizers-0.8.1rc1\n"
          ],
          "name": "stdout"
        }
      ]
    },
    {
      "cell_type": "code",
      "metadata": {
        "id": "MCBDlaXMORHL",
        "colab_type": "code",
        "colab": {
          "base_uri": "https://localhost:8080/",
          "height": 359
        },
        "outputId": "91f67c11-b436-4dee-e172-2adbc4004a93"
      },
      "source": [
        "import os, gc, sys\n",
        "import random\n",
        "\n",
        "import pandas as pd\n",
        "import numpy as np\n",
        "from sklearn.model_selection import StratifiedKFold\n",
        "from sklearn.metrics import f1_score\n",
        "\n",
        "from simpletransformers.classification import ClassificationModel\n",
        "import torch\n",
        "from torch.utils.data import Dataset, DataLoader\n",
        "from transformers import BertTokenizer, BertModel\n",
        "from torch import optim\n",
        "from torch import cuda\n",
        "import time\n",
        "%matplotlib inline\n",
        "import matplotlib.pyplot as plt\n",
        "import numpy as np\n",
        "import pandas as pd\n",
        "import copy\n",
        "import io\n",
        "from google.colab import drive\n",
        "import threading\n",
        "import lightgbm as lgb\n",
        "import multiprocessing\n",
        "import time\n",
        "import tensorflow as tf\n",
        "drive.mount('/content/drive')\n",
        "import tensorflow as tf\n",
        "import os.path\n",
        "import gc\n",
        "import pickle\n",
        "import lightgbm as lgb\n",
        "import sys\n",
        "import yellowbrick\n",
        "from sklearn import preprocessing\n",
        "from sklearn.model_selection import train_test_split\n",
        "from sklearn.decomposition import PCA\n",
        "#import pandas_profiling as pdp\n",
        "import seaborn as sns\n",
        "import os\n",
        "\n",
        "from sklearn.model_selection import KFold\n",
        "tf.test.gpu_device_name()\n",
        "\n",
        "import wandb\n",
        "api_key = \"49247722410c9febfbac2bd001c00497ea02f227\"\n",
        "wandb.login(key=api_key)\n",
        "wandb.init(project=\"signate_student\")\n",
        "from sklearn.feature_extraction.text import CountVectorizer, TfidfVectorizer\n",
        "torch.tensor([1,2,3]).to(\"cuda:0\")"
      ],
      "execution_count": 2,
      "outputs": [
        {
          "output_type": "stream",
          "text": [
            "\u001b[34m\u001b[1mwandb\u001b[0m: \u001b[33mWARNING\u001b[0m W&B installed but not logged in.  Run `wandb login` or set the WANDB_API_KEY env variable.\n"
          ],
          "name": "stderr"
        },
        {
          "output_type": "stream",
          "text": [
            "Go to this URL in a browser: https://accounts.google.com/o/oauth2/auth?client_id=947318989803-6bn6qk8qdgf4n4g3pfee6491hc0brc4i.apps.googleusercontent.com&redirect_uri=urn%3aietf%3awg%3aoauth%3a2.0%3aoob&scope=email%20https%3a%2f%2fwww.googleapis.com%2fauth%2fdocs.test%20https%3a%2f%2fwww.googleapis.com%2fauth%2fdrive%20https%3a%2f%2fwww.googleapis.com%2fauth%2fdrive.photos.readonly%20https%3a%2f%2fwww.googleapis.com%2fauth%2fpeopleapi.readonly&response_type=code\n",
            "\n",
            "Enter your authorization code:\n",
            "··········\n",
            "Mounted at /content/drive\n"
          ],
          "name": "stdout"
        },
        {
          "output_type": "stream",
          "text": [
            "/usr/local/lib/python3.6/dist-packages/sklearn/utils/deprecation.py:144: FutureWarning: The sklearn.metrics.classification module is  deprecated in version 0.22 and will be removed in version 0.24. The corresponding classes / functions should instead be imported from sklearn.metrics. Anything that cannot be imported from sklearn.metrics is now part of the private API.\n",
            "  warnings.warn(message, FutureWarning)\n",
            "/usr/local/lib/python3.6/dist-packages/statsmodels/tools/_testing.py:19: FutureWarning: pandas.util.testing is deprecated. Use the functions in the public API at pandas.testing instead.\n",
            "  import pandas.util.testing as tm\n",
            "\u001b[34m\u001b[1mwandb\u001b[0m: \u001b[33mWARNING\u001b[0m If you're specifying your api key in code, ensure this code is not shared publically.\n",
            "\u001b[34m\u001b[1mwandb\u001b[0m: \u001b[33mWARNING\u001b[0m Consider setting the WANDB_API_KEY environment variable, or running `wandb login` from the command line.\n",
            "\u001b[34m\u001b[1mwandb\u001b[0m: \u001b[33mWARNING\u001b[0m Calling wandb.login() without arguments from jupyter should prompt you for an api key.\n",
            "\u001b[34m\u001b[1mwandb\u001b[0m: Appending key for api.wandb.ai to your netrc file: /root/.netrc\n"
          ],
          "name": "stderr"
        },
        {
          "output_type": "display_data",
          "data": {
            "text/html": [
              "\n",
              "                Logging results to <a href=\"https://wandb.com\" target=\"_blank\">Weights & Biases</a> <a href=\"https://docs.wandb.com/integrations/jupyter.html\" target=\"_blank\">(Documentation)</a>.<br/>\n",
              "                Project page: <a href=\"https://app.wandb.ai/skbays/signate_student\" target=\"_blank\">https://app.wandb.ai/skbays/signate_student</a><br/>\n",
              "                Run page: <a href=\"https://app.wandb.ai/skbays/signate_student/runs/3pfevvfb\" target=\"_blank\">https://app.wandb.ai/skbays/signate_student/runs/3pfevvfb</a><br/>\n",
              "            "
            ],
            "text/plain": [
              "<IPython.core.display.HTML object>"
            ]
          },
          "metadata": {
            "tags": []
          }
        },
        {
          "output_type": "execute_result",
          "data": {
            "text/plain": [
              "tensor([1, 2, 3], device='cuda:0')"
            ]
          },
          "metadata": {
            "tags": []
          },
          "execution_count": 2
        }
      ]
    },
    {
      "cell_type": "markdown",
      "metadata": {
        "id": "pD9paSllzorx",
        "colab_type": "text"
      },
      "source": [
        "方針:以下の指標を用意\n",
        "(1)データ収集・運用(サーバー・ウェブへの知識) 80点\n",
        "(2)データサイエンティスト能力 130点\n",
        "(3)解析結果利用能力(ビジネスへの応用) 50点\n",
        "(4)ボーナス(実績、特殊技能) (1)(2)(3)の合計点を1.0~1.5倍\n",
        "合計: MAX390点\n",
        "\n",
        "スコア詳細:\n",
        "(1)データ収集・運用\n",
        "　プログラミング能力(MAX 30点):\n",
        "　  言語(MAX25点): 一つ5点\n",
        "  　ライブラリ・サービス(言語のスコアを1.0から1.3倍): 一つ+0.05\n",
        "  経験(MAX 50点):\n",
        "    ・一件当たり(15×年数)点\n",
        "  　3年以内: 1倍\n",
        "  　3=8年: 0.8倍\n",
        "    8年以上前: 0.6倍\n",
        "(2)データサイエンティスト能力\n",
        "    python ないと0点\n",
        "　プログラミング能力(MAX 50点):\n",
        "    pandas,lightGBMなどの基本ライブラリMAX30点 一つ5点\n",
        "    R15点\n",
        "  　その他ライブラリ・サービス(言語のスコアを1.0~1.5倍): 一つ+0.1\n",
        "  経験(MAX 90点): ※この分野は技術進歩が激しいため減衰が早い\n",
        "  　・一件当たり(15×年数)点\n",
        "  　2年以内: 1倍\n",
        "  　2-5年: 0.8倍\n",
        "    5年以上前: 0.6倍\n",
        "(3)解析結果利用能力\n",
        "　経験(MAX50点):\n",
        "    ・一件当たり(15×年数)点\n",
        "    5年以内: 1倍\n",
        "  　5年以上前: 0.8倍\n",
        "(4)ボーナス\n",
        "  実績(MAX+0.3):\n",
        "  　・1件あたり+0.1\n",
        "  特殊技能(MAX+0.2):\n",
        "  　・1件あたり+0.05\n",
        "　　\n",
        "\n"
      ]
    },
    {
      "cell_type": "code",
      "metadata": {
        "id": "wj-inTGPxVg9",
        "colab_type": "code",
        "colab": {}
      },
      "source": [
        "BASE_PATH = '/content/drive/My Drive/google_notebook/signate_insite/'\n",
        "\n",
        "edu_df = pd.read_csv(BASE_PATH+\"EducationalBackground.csv\")\n",
        "ski_df = pd.read_csv(BASE_PATH+\"Skills.csv\")\n",
        "wor_df = pd.read_csv(BASE_PATH+\"WorkExperience.csv\")\n",
        "\n",
        "ids = 6 #6人分確保\n",
        "now_year = 2021 #就業時の年"
      ],
      "execution_count": 9,
      "outputs": []
    },
    {
      "cell_type": "code",
      "metadata": {
        "id": "fAOR8JZucqum",
        "colab_type": "code",
        "colab": {}
      },
      "source": [
        "years_list = [[3, 8],[2, 5], [5, 999]]\n",
        "def exp_score(start_y, end_y, cat, dev):\n",
        "  global now_year, years_list\n",
        "  first_p = now_year - years_list[cat][0]\n",
        "  second_p = first_p = now_year - years_list[cat][1]\n",
        "\n",
        "  first_years = 0\n",
        "  second_years = 0\n",
        "  third_years = 0\n",
        "\n",
        "  if end_y > first_p:\n",
        "    first_years = end_y - max(start_y, first_p)\n",
        "  if start_y < first_p:\n",
        "    second_years = min(end_y, first_p) - max(start_y, second_p)\n",
        "  if start_y < second_p:\n",
        "    third_years = min(end_y, second_p) - start_y\n",
        "\n",
        "  score = first_years + second_years * 0.8 + third_years * 0.6\n",
        "\n",
        "  return score / dev"
      ],
      "execution_count": 251,
      "outputs": []
    },
    {
      "cell_type": "code",
      "metadata": {
        "id": "ArpQ3oUuzzP8",
        "colab_type": "code",
        "colab": {}
      },
      "source": [
        "class scores:\n",
        "  gra_year = -1 #卒業した年\n",
        "  years = 0.0 #卒業後の年数\n",
        "  cat1_lang = 0.0 #プログラム言語の知識\n",
        "  cat1_lib = 1.0 #ライブラリ・サービスの知識\n",
        "  cat1_lanlib = 0.0 #上記二つのスコア集計\n",
        "  cat1_exp = 0.0 #プログラミング実績\n",
        "  cat1_score = 0.0\n",
        "  python_can = 0 #pythonが使えるか\n",
        "  R_can = 0 #pythonが使えるか\n",
        "  cat2_lang = 0.0 #データサイエンティストに必要な基礎ライブラリ知識 \n",
        "  cat2_lib = 1.0 #その他ライブラリ・サービスの知識\n",
        "  cat2_lanlib = 0.0 #上記二つのスコア集計\n",
        "  cat2_exp = 0.0 #データ解析実績\n",
        "  cat2_score = 0.0\n",
        "  cat3_exp = 0.0 #データ活用実績\n",
        "  cat3_score = 0.0\n",
        "  op_grad = 0.0 #実績\n",
        "  op_sp = 0.0 #特殊技能\n",
        "  op_sum = 1.0\n",
        "  all_score = 0.0\n",
        "  c1_lang_list = []\n",
        "  c1_lib_list = []\n",
        "  c2_lang_list = []\n",
        "  c2_lib_list = []\n",
        "  op_grad_list = []\n",
        "  op_sp_list = []\n",
        "\n",
        "  def year_rank(self):\n",
        "    if self.years < 2: return \"rookie\"\n",
        "    elif self.years < 5: return \"young age\"\n",
        "    elif self.years < 10: return \"middle age\"\n",
        "    else: return \"elder\"\n",
        "\n",
        "  def list_to_score(self):\n",
        "    self.c1_lang_list = list(set(self.c1_lang_list))\n",
        "    self.c1_lib_list = list(set(self.c1_lib_list))\n",
        "    self.c2_lang_list = list(set(self.c2_lang_list))\n",
        "    self.c2_lib_list = list(set(self.c2_lib_list))\n",
        "    self.op_grad_list = list(set(self.op_grad_list))\n",
        "    self.op_sp_list = list(set(self.op_sp_list))\n",
        "\n",
        "    self.cat1_lang = len(self.c1_lang_list) * 5\n",
        "    self.cat1_lib = 1.0 + len(self.c1_lib_list) * 0.05\n",
        "    self.cat2_lang = len(self.c2_lang_list) * 5\n",
        "    self.cat2_lib = 1.0 + len(self.c2_lib_list) * 0.1\n",
        "    self.op_grad = len(self.op_grad_list) * 0.1\n",
        "    self.op_sp = len(self.op_sp_list) * 0.05\n",
        "  \n",
        "  def cal_score(self):\n",
        "    global now_year\n",
        "    self.list_to_score()\n",
        "\n",
        "    self.years = now_year - self.gra_year\n",
        "\n",
        "    c1_lang = self.cat1_lang\n",
        "    if c1_lang > 25: c1_lang = 25\n",
        "    c1_lib = self.cat1_lib\n",
        "    if c1_lib > 1.3: c1_lib = 1.3\n",
        "    self.cat1_lanlib = c1_lang * c1_lib\n",
        "    if self.cat1_lanlib > 30: self.cat1_lanlib = 30\n",
        "    self.cat1_lanlib = round(self.cat1_lanlib , 1)\n",
        "    self.cat1_exp = round(self.cat1_exp , 1)\n",
        "    c1_exp = self.cat1_exp\n",
        "    if c1_exp >50 : c1_exp = 50\n",
        "    self.cat1_score = self.cat1_lanlib + c1_exp\n",
        "    self.cat1_score = round(self.cat1_score , 1)\n",
        "\n",
        "    c2_lang = self.cat2_lang * self.python_can\n",
        "    if c2_lang > 30: c2_lang = 30\n",
        "    c2_lib = self.cat2_lib\n",
        "    if c2_lib > 1.5: c2_lib = 1.5\n",
        "    self.cat2_lanlib = (c2_lang + 15 * self.R_can) * c2_lib * self.python_can\n",
        "    if self.cat2_lanlib > 50: self.cat2_lanlib = 50\n",
        "    self.cat2_lanlib = round(self.cat2_lanlib , 1)\n",
        "    self.cat2_exp = round(self.cat2_exp , 1)\n",
        "    c2_exp = self.cat2_exp\n",
        "    if c2_exp >90 : c2_exp = 90\n",
        "    self.cat2_score = self.cat2_lanlib + c2_exp\n",
        "    self.cat2_score = round(self.cat2_score , 1)\n",
        "\n",
        "    self.cat3_exp = round(self.cat3_exp , 1)\n",
        "    c3_exp = self.cat3_exp\n",
        "    if c3_exp > 50: c3_exp = 50\n",
        "    self.cat3_score = c3_exp\n",
        "    self.cat3_score = round(self.cat3_score , 1)\n",
        "\n",
        "    op_g = self.op_grad\n",
        "    if op_g > 0.3: op_g = 0.3\n",
        "    op_s = self.op_sp\n",
        "    if op_s > 0.2: op_g = 0.2\n",
        "    self.op_sum = 1.0 + op_g + op_s\n",
        "\n",
        "    self.all_score = (self.cat1_score + self.cat2_score + self.cat3_score) * self.op_sum\n",
        "    self.all_score = round(self.all_score , 1)\n",
        "\n",
        "scores_list = [scores() for ii in range(ids)]"
      ],
      "execution_count": 252,
      "outputs": []
    },
    {
      "cell_type": "code",
      "metadata": {
        "id": "emwHhsi6zeMa",
        "colab_type": "code",
        "colab": {
          "base_uri": "https://localhost:8080/",
          "height": 417
        },
        "outputId": "66abdcb4-4141-4eb6-f677-be43a26522c6"
      },
      "source": [
        "edu_df"
      ],
      "execution_count": 253,
      "outputs": [
        {
          "output_type": "execute_result",
          "data": {
            "text/html": [
              "<div>\n",
              "<style scoped>\n",
              "    .dataframe tbody tr th:only-of-type {\n",
              "        vertical-align: middle;\n",
              "    }\n",
              "\n",
              "    .dataframe tbody tr th {\n",
              "        vertical-align: top;\n",
              "    }\n",
              "\n",
              "    .dataframe thead th {\n",
              "        text-align: right;\n",
              "    }\n",
              "</style>\n",
              "<table border=\"1\" class=\"dataframe\">\n",
              "  <thead>\n",
              "    <tr style=\"text-align: right;\">\n",
              "      <th></th>\n",
              "      <th>id</th>\n",
              "      <th>From</th>\n",
              "      <th>To</th>\n",
              "      <th>Degree</th>\n",
              "      <th>Major</th>\n",
              "    </tr>\n",
              "  </thead>\n",
              "  <tbody>\n",
              "    <tr>\n",
              "      <th>0</th>\n",
              "      <td>1</td>\n",
              "      <td>2005</td>\n",
              "      <td>2009</td>\n",
              "      <td>Bachelor</td>\n",
              "      <td>Mathematics</td>\n",
              "    </tr>\n",
              "    <tr>\n",
              "      <th>1</th>\n",
              "      <td>1</td>\n",
              "      <td>2009</td>\n",
              "      <td>2011</td>\n",
              "      <td>Master</td>\n",
              "      <td>Economics, Econometrics, and Management</td>\n",
              "    </tr>\n",
              "    <tr>\n",
              "      <th>2</th>\n",
              "      <td>2</td>\n",
              "      <td>1993</td>\n",
              "      <td>1998</td>\n",
              "      <td>Bachelor</td>\n",
              "      <td>Computer Science</td>\n",
              "    </tr>\n",
              "    <tr>\n",
              "      <th>3</th>\n",
              "      <td>2</td>\n",
              "      <td>1998</td>\n",
              "      <td>2003</td>\n",
              "      <td>PhD</td>\n",
              "      <td>Computer Science</td>\n",
              "    </tr>\n",
              "    <tr>\n",
              "      <th>4</th>\n",
              "      <td>3</td>\n",
              "      <td>2009</td>\n",
              "      <td>2013</td>\n",
              "      <td>Bachelor</td>\n",
              "      <td>Computer Engineering</td>\n",
              "    </tr>\n",
              "    <tr>\n",
              "      <th>5</th>\n",
              "      <td>3</td>\n",
              "      <td>2013</td>\n",
              "      <td>2015</td>\n",
              "      <td>Master</td>\n",
              "      <td>Computer Engineering</td>\n",
              "    </tr>\n",
              "    <tr>\n",
              "      <th>6</th>\n",
              "      <td>4</td>\n",
              "      <td>2010</td>\n",
              "      <td>2014</td>\n",
              "      <td>Bachelor</td>\n",
              "      <td>Mechanical Engineering</td>\n",
              "    </tr>\n",
              "    <tr>\n",
              "      <th>7</th>\n",
              "      <td>4</td>\n",
              "      <td>2015</td>\n",
              "      <td>2016</td>\n",
              "      <td>Master</td>\n",
              "      <td>Computer Science</td>\n",
              "    </tr>\n",
              "    <tr>\n",
              "      <th>8</th>\n",
              "      <td>5</td>\n",
              "      <td>2003</td>\n",
              "      <td>2007</td>\n",
              "      <td>Bachelor</td>\n",
              "      <td>Mathematical Engineering</td>\n",
              "    </tr>\n",
              "    <tr>\n",
              "      <th>9</th>\n",
              "      <td>5</td>\n",
              "      <td>2007</td>\n",
              "      <td>2008</td>\n",
              "      <td>Master</td>\n",
              "      <td>Mathematical Engineering</td>\n",
              "    </tr>\n",
              "    <tr>\n",
              "      <th>10</th>\n",
              "      <td>6</td>\n",
              "      <td>2006</td>\n",
              "      <td>2010</td>\n",
              "      <td>Bachelor</td>\n",
              "      <td>Chemical Engineering</td>\n",
              "    </tr>\n",
              "    <tr>\n",
              "      <th>11</th>\n",
              "      <td>6</td>\n",
              "      <td>2010</td>\n",
              "      <td>2012</td>\n",
              "      <td>Master</td>\n",
              "      <td>Business Analytics</td>\n",
              "    </tr>\n",
              "  </tbody>\n",
              "</table>\n",
              "</div>"
            ],
            "text/plain": [
              "    id  From    To    Degree                                    Major\n",
              "0    1  2005  2009  Bachelor                              Mathematics\n",
              "1    1  2009  2011    Master  Economics, Econometrics, and Management\n",
              "2    2  1993  1998  Bachelor                         Computer Science\n",
              "3    2  1998  2003       PhD                         Computer Science\n",
              "4    3  2009  2013  Bachelor                     Computer Engineering\n",
              "5    3  2013  2015    Master                     Computer Engineering\n",
              "6    4  2010  2014  Bachelor                   Mechanical Engineering\n",
              "7    4  2015  2016    Master                         Computer Science\n",
              "8    5  2003  2007  Bachelor                 Mathematical Engineering\n",
              "9    5  2007  2008    Master                 Mathematical Engineering\n",
              "10   6  2006  2010  Bachelor                     Chemical Engineering\n",
              "11   6  2010  2012    Master                       Business Analytics"
            ]
          },
          "metadata": {
            "tags": []
          },
          "execution_count": 253
        }
      ]
    },
    {
      "cell_type": "code",
      "metadata": {
        "id": "gBGZjJTTzvRz",
        "colab_type": "code",
        "colab": {
          "base_uri": "https://localhost:8080/",
          "height": 233
        },
        "outputId": "38ffc6b0-5e53-4b10-9a52-6d40a5181873"
      },
      "source": [
        "ski_df"
      ],
      "execution_count": 254,
      "outputs": [
        {
          "output_type": "execute_result",
          "data": {
            "text/html": [
              "<div>\n",
              "<style scoped>\n",
              "    .dataframe tbody tr th:only-of-type {\n",
              "        vertical-align: middle;\n",
              "    }\n",
              "\n",
              "    .dataframe tbody tr th {\n",
              "        vertical-align: top;\n",
              "    }\n",
              "\n",
              "    .dataframe thead th {\n",
              "        text-align: right;\n",
              "    }\n",
              "</style>\n",
              "<table border=\"1\" class=\"dataframe\">\n",
              "  <thead>\n",
              "    <tr style=\"text-align: right;\">\n",
              "      <th></th>\n",
              "      <th>id</th>\n",
              "      <th>skills</th>\n",
              "    </tr>\n",
              "  </thead>\n",
              "  <tbody>\n",
              "    <tr>\n",
              "      <th>0</th>\n",
              "      <td>1</td>\n",
              "      <td>Python, SQL, R, C#, Java, JavaScript, Spark, S...</td>\n",
              "    </tr>\n",
              "    <tr>\n",
              "      <th>1</th>\n",
              "      <td>2</td>\n",
              "      <td>SQL, Hive, Bigquery, AWS, Python, R, Tableau, ...</td>\n",
              "    </tr>\n",
              "    <tr>\n",
              "      <th>2</th>\n",
              "      <td>3</td>\n",
              "      <td>Python, C#, Wolfram, Markdown, Java, C++, SQL,...</td>\n",
              "    </tr>\n",
              "    <tr>\n",
              "      <th>3</th>\n",
              "      <td>4</td>\n",
              "      <td>Python, C/C++, R , SQL, Java, PHP/Hack, Scala,...</td>\n",
              "    </tr>\n",
              "    <tr>\n",
              "      <th>4</th>\n",
              "      <td>5</td>\n",
              "      <td>Python, SQL, Visual Basic for Applications (VB...</td>\n",
              "    </tr>\n",
              "    <tr>\n",
              "      <th>5</th>\n",
              "      <td>6</td>\n",
              "      <td>Hive, Presto, Tableau, Advanced Excel, Git, Ai...</td>\n",
              "    </tr>\n",
              "  </tbody>\n",
              "</table>\n",
              "</div>"
            ],
            "text/plain": [
              "   id                                             skills\n",
              "0   1  Python, SQL, R, C#, Java, JavaScript, Spark, S...\n",
              "1   2  SQL, Hive, Bigquery, AWS, Python, R, Tableau, ...\n",
              "2   3  Python, C#, Wolfram, Markdown, Java, C++, SQL,...\n",
              "3   4  Python, C/C++, R , SQL, Java, PHP/Hack, Scala,...\n",
              "4   5  Python, SQL, Visual Basic for Applications (VB...\n",
              "5   6  Hive, Presto, Tableau, Advanced Excel, Git, Ai..."
            ]
          },
          "metadata": {
            "tags": []
          },
          "execution_count": 254
        }
      ]
    },
    {
      "cell_type": "code",
      "metadata": {
        "id": "0_nm0Ma5zw4A",
        "colab_type": "code",
        "colab": {
          "base_uri": "https://localhost:8080/",
          "height": 693
        },
        "outputId": "75af90c6-c9b5-43fc-e4d9-5a06316abd06"
      },
      "source": [
        "wor_df"
      ],
      "execution_count": 255,
      "outputs": [
        {
          "output_type": "execute_result",
          "data": {
            "text/html": [
              "<div>\n",
              "<style scoped>\n",
              "    .dataframe tbody tr th:only-of-type {\n",
              "        vertical-align: middle;\n",
              "    }\n",
              "\n",
              "    .dataframe tbody tr th {\n",
              "        vertical-align: top;\n",
              "    }\n",
              "\n",
              "    .dataframe thead th {\n",
              "        text-align: right;\n",
              "    }\n",
              "</style>\n",
              "<table border=\"1\" class=\"dataframe\">\n",
              "  <thead>\n",
              "    <tr style=\"text-align: right;\">\n",
              "      <th></th>\n",
              "      <th>id</th>\n",
              "      <th>From</th>\n",
              "      <th>To</th>\n",
              "      <th>industry</th>\n",
              "      <th>jobtitle</th>\n",
              "      <th>achievements</th>\n",
              "    </tr>\n",
              "  </thead>\n",
              "  <tbody>\n",
              "    <tr>\n",
              "      <th>0</th>\n",
              "      <td>1</td>\n",
              "      <td>2011</td>\n",
              "      <td>2015</td>\n",
              "      <td>Consulting</td>\n",
              "      <td>Senior Consultant</td>\n",
              "      <td>- Engaged multiple CRM/Analytic projects acros...</td>\n",
              "    </tr>\n",
              "    <tr>\n",
              "      <th>1</th>\n",
              "      <td>1</td>\n",
              "      <td>2016</td>\n",
              "      <td>2016</td>\n",
              "      <td>Consulting</td>\n",
              "      <td>Natural Language Processing Consultant</td>\n",
              "      <td>- Scraped PDFs with Python in order to help di...</td>\n",
              "    </tr>\n",
              "    <tr>\n",
              "      <th>2</th>\n",
              "      <td>1</td>\n",
              "      <td>2017</td>\n",
              "      <td>2019</td>\n",
              "      <td>Tech</td>\n",
              "      <td>Data Scientist (Contract)</td>\n",
              "      <td>- Led the development and implementation of th...</td>\n",
              "    </tr>\n",
              "    <tr>\n",
              "      <th>3</th>\n",
              "      <td>1</td>\n",
              "      <td>2019</td>\n",
              "      <td>2020</td>\n",
              "      <td>Tech</td>\n",
              "      <td>Data Scientist (NLP Research)</td>\n",
              "      <td>- Developed language models across 100GB email...</td>\n",
              "    </tr>\n",
              "    <tr>\n",
              "      <th>4</th>\n",
              "      <td>2</td>\n",
              "      <td>2004</td>\n",
              "      <td>2018</td>\n",
              "      <td>Tech</td>\n",
              "      <td>Research Scientist</td>\n",
              "      <td>- As both an individual engineering contributo...</td>\n",
              "    </tr>\n",
              "    <tr>\n",
              "      <th>5</th>\n",
              "      <td>2</td>\n",
              "      <td>2019</td>\n",
              "      <td>2020</td>\n",
              "      <td>Tech</td>\n",
              "      <td>Data Scientist</td>\n",
              "      <td>- Our team was in charge of refurbishing recom...</td>\n",
              "    </tr>\n",
              "    <tr>\n",
              "      <th>6</th>\n",
              "      <td>3</td>\n",
              "      <td>2015</td>\n",
              "      <td>2015</td>\n",
              "      <td>Tech</td>\n",
              "      <td>Machine Learning Engineer</td>\n",
              "      <td>- Developed a Linux and Windows application fo...</td>\n",
              "    </tr>\n",
              "    <tr>\n",
              "      <th>7</th>\n",
              "      <td>3</td>\n",
              "      <td>2016</td>\n",
              "      <td>2016</td>\n",
              "      <td>Tech</td>\n",
              "      <td>Machine Learning Engineer</td>\n",
              "      <td>- Designed the curriculum of various Data Scie...</td>\n",
              "    </tr>\n",
              "    <tr>\n",
              "      <th>8</th>\n",
              "      <td>3</td>\n",
              "      <td>2017</td>\n",
              "      <td>2017</td>\n",
              "      <td>Tech</td>\n",
              "      <td>Data Scientist</td>\n",
              "      <td>- Created a real time system to capture the be...</td>\n",
              "    </tr>\n",
              "    <tr>\n",
              "      <th>9</th>\n",
              "      <td>3</td>\n",
              "      <td>2018</td>\n",
              "      <td>2018</td>\n",
              "      <td>Tech</td>\n",
              "      <td>Machine Learning Engineer</td>\n",
              "      <td>- Created computer vision models for autonomou...</td>\n",
              "    </tr>\n",
              "    <tr>\n",
              "      <th>10</th>\n",
              "      <td>3</td>\n",
              "      <td>2019</td>\n",
              "      <td>2020</td>\n",
              "      <td>Tech</td>\n",
              "      <td>Senior Machine Learning Engineer</td>\n",
              "      <td>- Developed a model for ranking potential cost...</td>\n",
              "    </tr>\n",
              "    <tr>\n",
              "      <th>11</th>\n",
              "      <td>4</td>\n",
              "      <td>2016</td>\n",
              "      <td>2018</td>\n",
              "      <td>Tech</td>\n",
              "      <td>Data Engineer</td>\n",
              "      <td>- Maintaining a data warehouse\\n- Developed so...</td>\n",
              "    </tr>\n",
              "    <tr>\n",
              "      <th>12</th>\n",
              "      <td>4</td>\n",
              "      <td>2018</td>\n",
              "      <td>2020</td>\n",
              "      <td>Consulting</td>\n",
              "      <td>Data Scientist</td>\n",
              "      <td>- Worked on various data pipelines and made it...</td>\n",
              "    </tr>\n",
              "    <tr>\n",
              "      <th>13</th>\n",
              "      <td>5</td>\n",
              "      <td>2008</td>\n",
              "      <td>2011</td>\n",
              "      <td>Healthcare</td>\n",
              "      <td>Business Analyst</td>\n",
              "      <td>- Created a data reporting system to monitor t...</td>\n",
              "    </tr>\n",
              "    <tr>\n",
              "      <th>14</th>\n",
              "      <td>5</td>\n",
              "      <td>2012</td>\n",
              "      <td>2012</td>\n",
              "      <td>Tech</td>\n",
              "      <td>Data Analyst</td>\n",
              "      <td>- Created a system to statistically analyze th...</td>\n",
              "    </tr>\n",
              "    <tr>\n",
              "      <th>15</th>\n",
              "      <td>5</td>\n",
              "      <td>2013</td>\n",
              "      <td>2016</td>\n",
              "      <td>Finance</td>\n",
              "      <td>Data Analyst</td>\n",
              "      <td>- Implemented an automatic report generator in...</td>\n",
              "    </tr>\n",
              "    <tr>\n",
              "      <th>16</th>\n",
              "      <td>5</td>\n",
              "      <td>2016</td>\n",
              "      <td>2017</td>\n",
              "      <td>Finance</td>\n",
              "      <td>Quantitative Analyst (Financial Model Builder)</td>\n",
              "      <td>- Migrated the features of a complex financial...</td>\n",
              "    </tr>\n",
              "    <tr>\n",
              "      <th>17</th>\n",
              "      <td>5</td>\n",
              "      <td>2017</td>\n",
              "      <td>2020</td>\n",
              "      <td>Healthcare</td>\n",
              "      <td>Data Scientist</td>\n",
              "      <td>- Built advanced Tableau dashboards for the Un...</td>\n",
              "    </tr>\n",
              "    <tr>\n",
              "      <th>18</th>\n",
              "      <td>6</td>\n",
              "      <td>2013</td>\n",
              "      <td>2014</td>\n",
              "      <td>Finance</td>\n",
              "      <td>Analyst</td>\n",
              "      <td>- Developed strong financial modelling and int...</td>\n",
              "    </tr>\n",
              "    <tr>\n",
              "      <th>19</th>\n",
              "      <td>6</td>\n",
              "      <td>2015</td>\n",
              "      <td>2018</td>\n",
              "      <td>Finance</td>\n",
              "      <td>Analyst</td>\n",
              "      <td>- Worked as a data scientist in marketing stra...</td>\n",
              "    </tr>\n",
              "    <tr>\n",
              "      <th>20</th>\n",
              "      <td>6</td>\n",
              "      <td>2019</td>\n",
              "      <td>2020</td>\n",
              "      <td>Entertainment</td>\n",
              "      <td>Data Scientist</td>\n",
              "      <td>- Client facing role within our marketing solu...</td>\n",
              "    </tr>\n",
              "  </tbody>\n",
              "</table>\n",
              "</div>"
            ],
            "text/plain": [
              "    id  ...                                       achievements\n",
              "0    1  ...  - Engaged multiple CRM/Analytic projects acros...\n",
              "1    1  ...  - Scraped PDFs with Python in order to help di...\n",
              "2    1  ...  - Led the development and implementation of th...\n",
              "3    1  ...  - Developed language models across 100GB email...\n",
              "4    2  ...  - As both an individual engineering contributo...\n",
              "5    2  ...  - Our team was in charge of refurbishing recom...\n",
              "6    3  ...  - Developed a Linux and Windows application fo...\n",
              "7    3  ...  - Designed the curriculum of various Data Scie...\n",
              "8    3  ...  - Created a real time system to capture the be...\n",
              "9    3  ...  - Created computer vision models for autonomou...\n",
              "10   3  ...  - Developed a model for ranking potential cost...\n",
              "11   4  ...  - Maintaining a data warehouse\\n- Developed so...\n",
              "12   4  ...  - Worked on various data pipelines and made it...\n",
              "13   5  ...  - Created a data reporting system to monitor t...\n",
              "14   5  ...  - Created a system to statistically analyze th...\n",
              "15   5  ...  - Implemented an automatic report generator in...\n",
              "16   5  ...  - Migrated the features of a complex financial...\n",
              "17   5  ...  - Built advanced Tableau dashboards for the Un...\n",
              "18   6  ...  - Developed strong financial modelling and int...\n",
              "19   6  ...  - Worked as a data scientist in marketing stra...\n",
              "20   6  ...  - Client facing role within our marketing solu...\n",
              "\n",
              "[21 rows x 6 columns]"
            ]
          },
          "metadata": {
            "tags": []
          },
          "execution_count": 255
        }
      ]
    },
    {
      "cell_type": "code",
      "metadata": {
        "id": "nC0L994dJfsr",
        "colab_type": "code",
        "colab": {
          "base_uri": "https://localhost:8080/",
          "height": 35
        },
        "outputId": "833552fc-9880-4ca3-886e-3426a1549954"
      },
      "source": [
        "grad_year"
      ],
      "execution_count": 256,
      "outputs": [
        {
          "output_type": "execute_result",
          "data": {
            "text/plain": [
              "[2011, 2003, 2015, 2016, 2008, 2012]"
            ]
          },
          "metadata": {
            "tags": []
          },
          "execution_count": 256
        }
      ]
    },
    {
      "cell_type": "code",
      "metadata": {
        "id": "HpJrS9TIVpbR",
        "colab_type": "code",
        "colab": {}
      },
      "source": [
        "from nltk.stem.porter import PorterStemmer\n",
        "import re, copy\n",
        "\n",
        "grad_year = [-1 for jj in range(ids)]\n",
        "\n",
        "for ii in range(len(edu_df)):\n",
        "  id_num = edu_df.iloc[ii,0] - 1\n",
        "  year = edu_df.iloc[ii,2]\n",
        "  if grad_year[id_num] < year: grad_year[id_num] = year\n",
        "\n",
        "for ii in range(ids):\n",
        "  scores_list[ii].gra_year = grad_year[ii]"
      ],
      "execution_count": 257,
      "outputs": []
    },
    {
      "cell_type": "code",
      "metadata": {
        "id": "iYSZ-NTc18yh",
        "colab_type": "code",
        "colab": {}
      },
      "source": [
        "\n",
        "\n",
        "#プログラミング言語の分類\n",
        "r_lang_list = ['javascript','hack','haskell','java','c++','visual basic','php' ,'c#','c' ,'php','javascript' ,'java', 'html'] #R,pythonを除くメジャーなプログラミング言語\n",
        "               \n",
        "r_libser_list = ['git','sklearn','scipy','bigquery','opencv','tableau'] #データサイエンティストが使うかもしれないライブラリ・サービス \n",
        "r_libser_list_super = ['scikit-learn','jupyter','xgboost','pandas','matlab','matplotlib','tensorflow','numpy','pytorch','cuda'] #データサイエンティストがよく使うライブラリ・サービス \n",
        "prkari = []\n",
        "for ii in range(len(ski_df)):\n",
        "  id_num = ski_df.iloc[ii,0] - 1\n",
        "\n",
        "  clean_punc = ski_df.iloc[ii,1].replace('/', ', ').lower()\n",
        "\n",
        "  prkk = [lang for lang in clean_punc.split(', ')]\n",
        "\n",
        "  for lali in prkk:\n",
        "    if lali == 'python': scores_list[id_num].python_can = 1\n",
        "    elif lali == \"r\": scores_list[id_num].R_can = 1\n",
        "    elif lali in r_lang_list: scores_list[id_num].c1_lang_list.append(lali)\n",
        "    elif lali in r_libser_list_super: scores_list[id_num].c2_lang_list.append(lali)\n",
        "    elif lali in r_libser_list: scores_list[id_num].c2_lib_list.append(lali)\n",
        "    else: scores_list[id_num].c1_lib_list.append(lali)"
      ],
      "execution_count": 258,
      "outputs": []
    },
    {
      "cell_type": "code",
      "metadata": {
        "id": "q8fILOSLKh4e",
        "colab_type": "code",
        "colab": {
          "base_uri": "https://localhost:8080/",
          "height": 1000
        },
        "outputId": "0b3c210e-5faa-446a-ddbe-c8932618785e"
      },
      "source": [
        "kk"
      ],
      "execution_count": 259,
      "outputs": [
        {
          "output_type": "execute_result",
          "data": {
            "text/plain": [
              "['engag multipl crm/analyt project across asia pacif with lead multin custom and partners.',\n",
              " 'led three project to assist the market oper group develop analyt capabilities.',\n",
              " 'scope more than 100 kpi and develop dashboard for the sale and market leader of 19 brands.',\n",
              " \"analyz a client' success for an end-to-end plan change.\",\n",
              " 'assess sale and market group’ competit readi for product loss-of-exclus and recommend capabl to the execut committe to develop and enhance.',\n",
              " 'facilit workshop with senior sale and market leadership led focu interview and develop framework to analyz qualit information.',\n",
              " 'manag the program to improv classif practic and enabl data-driven decision-making.',\n",
              " 'ran pmo manag six work stream and led quarterli meet with the managers.',\n",
              " 'scrape pdf with python in order to help digit the offici document the citi record.',\n",
              " 'help design a schema for entri (such as extract addresses).',\n",
              " 'creat data clean regim to standard entri from over a hundr citi agenc that all report in differ formats.',\n",
              " 'use python and nltk to perform exploratori natur languag process on a century-long corpu of publications.',\n",
              " 'work to integr thi pipelin into ms access.',\n",
              " 'led the develop and implement of the data analysi and research infrastructure.',\n",
              " 'develop the aw s3 lambda ec2 and docker orchestr for extract process and store financi econom and market data from thomson reuter eikon api.',\n",
              " 'built an nlp languag model use snorkel and metal for the analysi earn of call transcripts.',\n",
              " 'implement forecast model includ retail sale analysi use more than 1tb of extran data such as weather event and client-specif metrics. use proprietari infrastructur base on postgresql vector bash and tensorflow/scikit-learn.',\n",
              " 'drove busi decis by research test and integr variou regress and classification-bas model use python scikit-learn tensorflow and keras.',\n",
              " 'develop an insur algorithm for seismic and flood risk comput use mcmc.',\n",
              " 'develop languag model across 100gb email data use transfer learn text analysis/classif and cluster few-shot learn embed and attent rnn networks.',\n",
              " 'work on unsupervis data augment weak supervis in snorkel metal and multi-task learn for malici data classification.',\n",
              " 'implement end-to-end machin learn model in product use tensorflow aw s3/athena and sagemak on both cpu and gpu base architectures.',\n",
              " 'work on string similar and match with one-shot learning/siames networks.',\n",
              " 'implement variou codebas improv test autom parallel process and document design.',\n",
              " 'as both an individu engin contributor and a manag of data scienc group i work on the qualiti improv of recommend system and then the introduct of machin learn and deep learn for it.',\n",
              " 'the role of our team wa to select a suitabl hotel and nearbi restaur for the travelers.',\n",
              " 'our approach combin lexic analysi syntax analysi and semant analysi to understand sentiment toward hotel featur and the profil of guest type (solo famili coupl etc). the propos system recommend hotel base on the hotel featur and guest type for person recommendation. the develop system not onli ha the abil to handl heterogen data use big data hadoop platform but also recommend hotel class base on guest type use fuzzi rules. we final result in the improv in accuraci by 10% and the decreas in respons time by 20% significantli better than the previou approaches.',\n",
              " 'take variou initi with search qualiti improv especi in asian languag understand',\n",
              " 'work on machin learn infrastructur and inform retriev techniqu to deepli understand the data and produc semantics/knowledg which is the key to the product we power',\n",
              " 'design and scale the big data system',\n",
              " 'be the key member for the busi and product strategi team',\n",
              " 'grew and manag the qualiti team respons for defin measur and improv core metric',\n",
              " 'our team wa in charg of refurbish recommend system by model the human sens of the relationship toward object base on their appearance.',\n",
              " 'our approach is base on handl the big dataset and develop a scalabl method for uncov human visual recognition.',\n",
              " 'cast thi as a network infer problem defin on graph of relat imag and provid a large-scal dataset for the train and evalu of the model. the system we develop is capabl of recommend which cloth and accessori will go well togeth and that capabl cannot be seen at no other recommend system in the world so far.',\n",
              " 'lead the engin team build the core compon',\n",
              " 'refin strategi for product consumpt and engag growth of ourproduct',\n",
              " 'develop a linux and window applic for hr softwar to measur employe productivity.',\n",
              " 'clean and analyz larg dataset use spark and zeppelin.',\n",
              " 'creat a servic for entiti extract use nltk.',\n",
              " 'creat a gener ml predict servic use scikit learn and flask.',\n",
              " 'design the curriculum of variou data science/ml courses.',\n",
              " 'evalu variou iot platforms.',\n",
              " 'investig technolog such a tensorflow and opencv to run ml algorithm on iot devices.',\n",
              " 'creat a real time system to captur the behavior of the pilots.',\n",
              " 'design a robust data pipelin capabl of process million of images.',\n",
              " 'develop a neural network model to drive a deliveri robot on the sidewalk.',\n",
              " 'creat comput vision model for autonom visual inspect (avi) for big manufactur companies.',\n",
              " 'propos and develop intern tool to improv the effici of process dataset for machin learn analysis.',\n",
              " 'develop gan model for data augment relat tasks.',\n",
              " 'develop a model for rank potenti costumers.',\n",
              " 'develop a neural network model for predict sale use time seri data.',\n",
              " 'creat dashboard to visual the suppli and demand of user use dash plotli and mapbox.',\n",
              " 'develop a deep learn model for the classif of photograph portfolios.',\n",
              " 'develop an imag cluster algorithm for automat culling.',\n",
              " 'develop some web-scrap and other rpa autom tool to gather imag data.',\n",
              " 'maintain a data warehous',\n",
              " 'develop softwar to detect error and upgrad among user and thu improv the perform of the product',\n",
              " 'led a project to success creat a data pipelin use apach kafka and pyspark',\n",
              " 'adopt agil methodolog and interact directli with the entir team by provid feedback on the design',\n",
              " 'suggested/impl optim solut and tailor applic to meet busi requir',\n",
              " 'autom etl process and made it easier to wrangl data reduc process time as much as 40%',\n",
              " 'develop server monitor script that report down time on our applic',\n",
              " \"provid an interfac to connect the algorithm with the project' exist code\",\n",
              " 'work on variou data pipelin and made it possibl to analyz distribut data',\n",
              " 'develop dashboard to visual the data relat to the server and other hardwar compon so that they are avail to our client',\n",
              " 'formul next gener analyt environ provid self-servic central platform for ani data-centr activ which allow full 360 degre view of the product usag of the custom',\n",
              " 'modern data analyt environ by use cloud base hadoop platform version control system git automat deploy tool and server-bas workflow schedul system',\n",
              " 'conduct staff train and made recommend to improv their technic practic',\n",
              " 'built data virtual tool use tableau and aggreg the data use sql client postgresql & sql-workbench',\n",
              " 'creat a data report system to monitor the back offic such as financ sale and product departments. the system wa connect to the back-end erp (navision) to gather data and dynam creat sever excel reports.',\n",
              " 'report the signific chang in dataset which wa download from a back-end databas and then the cell insid the sheet were fill in and elabor when our client requir to do so.',\n",
              " 'back up some data from sql server into a local microsoft access databas for more complex analysi and also let our client handl the dataset through variou filters; our client could also print report of hi queri through the system i made.',\n",
              " 'develop softwar that contain a real-tim calendar with upcom order and display some kpi indic to monitor the product process of hear instruments.',\n",
              " 'creat a system to statist analyz the data of labor market and dynam creat report with kpi figur requir by the client.',\n",
              " 'wrote report with vba program to dynam gather data from the back-end mysql database.',\n",
              " 'creat procedur and view in the mysql back-end databas to filter out ani unnecessari data.',\n",
              " 'implement an automat report gener in order to produc statist report for the european commiss with detail data of payments.',\n",
              " 'creat softwar to replic the legaci softwar use to calcul payment and check transactions.',\n",
              " 'wrote sever view and queri in an oracl back-end databas to retriev payment information.',\n",
              " 'creat r script to sync a pentaho repositori with a oracl databas in order to align metadata and descript of everi pentaho report.',\n",
              " 'develop a repositori with specif of oracl view through interview to differ stakeholders.',\n",
              " 'migrat the featur of a complex financi model built with sever huge excel workbook into 2 python script to speed up calculation. my system decreas the time need to analyz the data from more than 10 hour to a few minutes. these script also implement a qualiti check of the input data to assur reliabl computation.',\n",
              " 'implement statist analysi linear regress and machin learn to our service.',\n",
              " 'perform time seri analysi (ohlc and tick data).',\n",
              " 'develop code in r and python.',\n",
              " 'built advanc tableau dashboard for the univers of colorado provid support to variou tableau user from the univers wrote python etl script and serv as a mentor dure the univers hackathon.',\n",
              " 'handl the data clean and the entir design of the databas architectur via sever python script and jupyt notebooks.',\n",
              " 'creat a crm data layer base on 1000+ unstructur excel and other data file use an autom parser in r.',\n",
              " 'set up data visual dashboard and report capabl for a client.',\n",
              " 'design and develop a bi environ for a client.',\n",
              " 'design and develop data architectur for a startup base in silicon valley and got involv in the earli stage as the tech lead.',\n",
              " 'develop strong financi model and interperson skill',\n",
              " 'cover european healthcar sector',\n",
              " 'perform lbo analysi on a potenti $70 million asset sale of a non-cor busi unit to the sponsor',\n",
              " 'construct sensit tabl show chang in stock price growth rate and ebitda margin use excel and vba',\n",
              " 'develop a novel method for achiev higher asset diversif within the context of optim portfolio construct and implement it use excel',\n",
              " 'work as a data scientist in market strategi depart mainli in charg of data mine and data-driven busi strategi consult',\n",
              " 'provid intuit and insight inform to manag to let them understand the current situat and assist manag in craft futur strategi and plan',\n",
              " \"deliv data-driven present to support senior stakeholders' decision-mak process\",\n",
              " 'conduct and analyz a/b experi to discov opportun for product growth',\n",
              " 'redesign the company’ strateg approach to bill that result in boost revenu by 7% and reduc account receiv by 18%',\n",
              " 'client face role within our market solut team support enterpris custom so that they could better understand their audienc content trend and advertis perform',\n",
              " 'use visual to determin the season trend that resid in data and detect some abnorm',\n",
              " 'defin metric and busi strategi for analyz the perform of beta featur',\n",
              " 'analyz the data come from oracl and work with busi user to develop the model',\n",
              " 'creat differ kpi dashboard use a combin of the list crosstab graph and map report',\n",
              " 'perform user data mine for new insight and scientif public']"
            ]
          },
          "metadata": {
            "tags": []
          },
          "execution_count": 259
        }
      ]
    },
    {
      "cell_type": "code",
      "metadata": {
        "id": "HcPPILvo4-3X",
        "colab_type": "code",
        "colab": {}
      },
      "source": [
        "c1_word = [\"design\",\"develop\", \"detect\", \"upgrad\", \"creat\",\"perform\", \"provid\",\"wrote\"]\n",
        "c1_high_word = [\"softwar\",\"maintain\", \"error\"]\n",
        "c2_word = [\"data\",\"analyt\",\"analysi\"]\n",
        "c2_high_word = [\"neural network\", \"model\", \"cluster\",\"dataset\", \"big data\"]\n",
        "c3_word = [\"custom\", \"support\", \"user\", \"market\",\"suggest\"]\n",
        "c3_high_word = [\"busi\", \"research\",\"team\",\"lead\", \"report\"]\n",
        "from nltk.stem.porter import PorterStemmer\n",
        "stemmer = PorterStemmer()\n",
        "for ii in range(len(wor_df)):\n",
        "  id_num = wor_df.iloc[ii,0] - 1\n",
        "  sli = scores_list[id_num] \n",
        "  start_year = wor_df.iloc[ii,1]\n",
        "  end_year = wor_df.iloc[ii,2]\n",
        "  achievements = wor_df.iloc[ii,5].replace('- ', '').replace(',', '').lower()\n",
        "  achievement_list = [achievement for achievement in achievements.split('\\n')]\n",
        "\n",
        "  l_achive = len(achievement_list)\n",
        "  for achievement in achievement_list:\n",
        "      c1 = 0\n",
        "      c2 = 0\n",
        "      c3 = 0\n",
        "      #ステミング\n",
        "      clean_normalize = [stemmer.stem(word) for word in achievement.split()]\n",
        "      #単語同士をスペースでつなぎ, 文章に戻す\n",
        "      clean_text = ' '.join(clean_normalize)\n",
        "\n",
        "      for word in c1_word:\n",
        "         if (word in clean_text): c1 += 1\n",
        "      for word in c1_high_word:\n",
        "         if (word in clean_text): c1 += 2\n",
        "      for word in c2_word:\n",
        "         if (word in clean_text): c2 += 1\n",
        "      for word in c2_high_word:\n",
        "         if (word in clean_text): c2 += 2\n",
        "      for word in c3_word:\n",
        "         if (word in clean_text): c2 += 1\n",
        "      for word in c3_high_word:\n",
        "         if (word in clean_text): c2 += 2\n",
        "\n",
        "      if (c1 > c2) and (c1 > c3): c1 += 3\n",
        "      elif (c2 > c1) and (c2 > c3): c2 += 3\n",
        "      elif (c3 > c1) and (c3 > c2): c3 += 3\n",
        "\n",
        "      if (c1 + c2 + c3 == 0): c3 += 1\n",
        "\n",
        "      score_div = (c1 + c2 + c3) * l_achive\n",
        "\n",
        "      c1_score = exp_score(start_year, end_year, 0, score_div) * c1 * 15\n",
        "      c2_score = exp_score(start_year, end_year, 1, score_div) * c2 * 15\n",
        "      c3_score = exp_score(start_year, end_year, 2, score_div) * c3 * 15\n",
        "\n",
        "      sli.cat1_exp += c1_score\n",
        "      sli.cat2_exp += c2_score\n",
        "      sli.cat3_exp += c3_score\n",
        "      \n",
        "      if (\"imag\" in clean_text): sli.op_sp_list.append(\"image\")\n",
        "      if (\"vision\" in clean_text): sli.op_sp_list.append(\"vision\")\n",
        "      elif (\"visual\" in clean_text): sli.op_sp_list.append(\"vision\")\n",
        "      if (\"strong\" in clean_text): sli.op_grad_list.append(\"strong\")\n",
        "      \n",
        "    \n"
      ],
      "execution_count": 260,
      "outputs": []
    },
    {
      "cell_type": "code",
      "metadata": {
        "id": "ARg8eYpPeSW6",
        "colab_type": "code",
        "colab": {
          "base_uri": "https://localhost:8080/",
          "height": 35
        },
        "outputId": "8f11e45e-e350-4b9b-f60e-db151aeca146"
      },
      "source": [
        "scores_list[1].cat1_exp"
      ],
      "execution_count": 261,
      "outputs": [
        {
          "output_type": "execute_result",
          "data": {
            "text/plain": [
              "6.156547619047617"
            ]
          },
          "metadata": {
            "tags": []
          },
          "execution_count": 261
        }
      ]
    },
    {
      "cell_type": "code",
      "metadata": {
        "id": "1ZJVcN9c3r-M",
        "colab_type": "code",
        "colab": {}
      },
      "source": [
        "for ii in range(ids):\n",
        "  sli = scores_list[ii]\n",
        "  sli.cal_score()\n",
        "  datas = pd.DataFrame({'years':sli.year_rank(),\n",
        "                        'cat1_lanlib':sli.cat1_lanlib,\n",
        "                        'cat2_lanlib':sli.cat2_lanlib,\n",
        "                        'cat1_exp':sli.cat1_exp,\n",
        "                        'cat2_exp':sli.cat2_exp,\n",
        "                        'cat3_exp':sli.cat3_exp,\n",
        "                        'cat1_score':sli.cat1_score,\n",
        "                        'cat2_score':sli.cat2_score,\n",
        "                        'cat3_score':sli.cat3_score,\n",
        "                        'op_grad':sli.op_grad,\n",
        "                        'op_sp':sli.op_sp,\n",
        "                        'op_sum':sli.op_sum,\n",
        "                        'all_score':sli.all_score},\n",
        "                       index=['i',])\n",
        "  datas.to_csv(BASE_PATH + \"data_\" + str(ii) + \".csv\", index=False)"
      ],
      "execution_count": 262,
      "outputs": []
    },
    {
      "cell_type": "code",
      "metadata": {
        "id": "EItPXyoppX6S",
        "colab_type": "code",
        "colab": {
          "base_uri": "https://localhost:8080/",
          "height": 641
        },
        "outputId": "4a9f044e-0b92-4a28-d532-85ef7759210f"
      },
      "source": [
        "ii = 0\n",
        "sli = scores_list[ii]\n",
        "left = np.array([0, 1, 2, 3])\n",
        "height1 = np.array([sli.cat1_lanlib, sli.cat2_lanlib, 0, 0])\n",
        "height2 = np.array([sli.cat1_exp, sli.cat2_exp, sli.cat3_exp , 0])\n",
        "height3 = np.array([0, 0, 0 , sli.all_score / sli.op_sum])\n",
        "height4 = np.array([0, 0, 0 , sli.all_score])\n",
        "height5 = np.array([80 - sli.cat1_exp - sli.cat1_lanlib, 130 - sli.cat2_lanlib - sli.cat2_exp, 50 - sli.cat3_exp, 390 - sli.all_score])\n",
        "\n",
        "fig = plt.figure(figsize=(7, 7))\n",
        "ax = fig.add_subplot(111)\n",
        "\n",
        "p1 = ax.bar(left, height1, color=\"blue\")\n",
        "p2 = ax.bar(left, height2, bottom=height1, color=\"green\")\n",
        "p3 = ax.bar(left, height4, bottom=height1 + height2, color=\"red\")\n",
        "p4 = ax.bar(left, height3, bottom=height1 + height2, color=\"#ffa500\")\n",
        "p5 = ax.bar(left, height5, bottom=height1 + height2 + height4, color=\"#d5d5d5\")\n",
        "ax.legend((p1[0], p2[0], p3[0], p4[0], p5[0]), (\"knowledge\", \"experience\", \"bonus\", \"base_score\"))\n",
        "fig.suptitle(\"id:\"+ str(ii+1) + \"   type:\" + sli.year_rank())\n",
        "labels = [\"\",\"\",\"cat1\",\"\",\"cat2\", \"\",\"cat3\",\"\", \"all\"]\n",
        "ax.set_xticklabels(labels)"
      ],
      "execution_count": 269,
      "outputs": [
        {
          "output_type": "execute_result",
          "data": {
            "text/plain": [
              "[Text(0, 0, ''),\n",
              " Text(0, 0, ''),\n",
              " Text(0, 0, 'cat1'),\n",
              " Text(0, 0, ''),\n",
              " Text(0, 0, 'cat2'),\n",
              " Text(0, 0, ''),\n",
              " Text(0, 0, 'cat3'),\n",
              " Text(0, 0, ''),\n",
              " Text(0, 0, 'all')]"
            ]
          },
          "metadata": {
            "tags": []
          },
          "execution_count": 269
        },
        {
          "output_type": "display_data",
          "data": {
            "image/png": "[encoded data removed]",
            "text/plain": [
              "<Figure size 504x504 with 1 Axes>"
            ]
          },
          "metadata": {
            "tags": []
          }
        }
      ]
    },
    {
      "cell_type": "code",
      "metadata": {
        "id": "5VhBSv40wa4V",
        "colab_type": "code",
        "colab": {
          "base_uri": "https://localhost:8080/",
          "height": 641
        },
        "outputId": "06e87539-408e-4926-ad36-3dc2877c79b8"
      },
      "source": [
        "ii = 1\n",
        "sli = scores_list[ii]\n",
        "left = np.array([0, 1, 2, 3])\n",
        "height1 = np.array([sli.cat1_lanlib, sli.cat2_lanlib, 0, 0])\n",
        "height2 = np.array([sli.cat1_exp, sli.cat2_exp, sli.cat3_exp , 0])\n",
        "height3 = np.array([0, 0, 0 , sli.all_score / sli.op_sum])\n",
        "height4 = np.array([0, 0, 0 , sli.all_score])\n",
        "height5 = np.array([80 - sli.cat1_exp - sli.cat1_lanlib, 130 - sli.cat2_lanlib - sli.cat2_exp, 50 - sli.cat3_exp, 390 - sli.all_score])\n",
        "\n",
        "fig = plt.figure(figsize=(7, 7))\n",
        "ax = fig.add_subplot(111)\n",
        "\n",
        "p1 = ax.bar(left, height1, color=\"blue\")\n",
        "p2 = ax.bar(left, height2, bottom=height1, color=\"green\")\n",
        "p3 = ax.bar(left, height4, bottom=height1 + height2, color=\"red\")\n",
        "p4 = ax.bar(left, height3, bottom=height1 + height2, color=\"#ffa500\")\n",
        "p5 = ax.bar(left, height5, bottom=height1 + height2 + height4, color=\"#d5d5d5\")\n",
        "ax.legend((p1[0], p2[0], p3[0], p4[0], p5[0]), (\"knowledge\", \"experience\", \"bonus\", \"base_score\"))\n",
        "fig.suptitle(\"id:\"+ str(ii+1) + \"   type:\" + sli.year_rank())\n",
        "labels = [\"\",\"\",\"cat1\",\"\",\"cat2\", \"\",\"cat3\",\"\", \"all\"]\n",
        "ax.set_xticklabels(labels)"
      ],
      "execution_count": 270,
      "outputs": [
        {
          "output_type": "execute_result",
          "data": {
            "text/plain": [
              "[Text(0, 0, ''),\n",
              " Text(0, 0, ''),\n",
              " Text(0, 0, 'cat1'),\n",
              " Text(0, 0, ''),\n",
              " Text(0, 0, 'cat2'),\n",
              " Text(0, 0, ''),\n",
              " Text(0, 0, 'cat3'),\n",
              " Text(0, 0, ''),\n",
              " Text(0, 0, 'all')]"
            ]
          },
          "metadata": {
            "tags": []
          },
          "execution_count": 270
        },
        {
          "output_type": "display_data",
          "data": {
            "image/png": "[encoded data removed]",
            "text/plain": [
              "<Figure size 504x504 with 1 Axes>"
            ]
          },
          "metadata": {
            "tags": []
          }
        }
      ]
    },
    {
      "cell_type": "code",
      "metadata": {
        "id": "eI6ltW5kwfa3",
        "colab_type": "code",
        "colab": {
          "base_uri": "https://localhost:8080/",
          "height": 641
        },
        "outputId": "6c019578-aaa9-4987-c744-d2966c08a0a2"
      },
      "source": [
        "ii = 2\n",
        "sli = scores_list[ii]\n",
        "left = np.array([0, 1, 2, 3])\n",
        "height1 = np.array([sli.cat1_lanlib, sli.cat2_lanlib, 0, 0])\n",
        "height2 = np.array([sli.cat1_exp, sli.cat2_exp, sli.cat3_exp , 0])\n",
        "height3 = np.array([0, 0, 0 , sli.all_score / sli.op_sum])\n",
        "height4 = np.array([0, 0, 0 , sli.all_score])\n",
        "height5 = np.array([80 - sli.cat1_exp - sli.cat1_lanlib, 130 - sli.cat2_lanlib - sli.cat2_exp, 50 - sli.cat3_exp, 390 - sli.all_score])\n",
        "\n",
        "fig = plt.figure(figsize=(7, 7))\n",
        "ax = fig.add_subplot(111)\n",
        "\n",
        "p1 = ax.bar(left, height1, color=\"blue\")\n",
        "p2 = ax.bar(left, height2, bottom=height1, color=\"green\")\n",
        "p3 = ax.bar(left, height4, bottom=height1 + height2, color=\"red\")\n",
        "p4 = ax.bar(left, height3, bottom=height1 + height2, color=\"#ffa500\")\n",
        "p5 = ax.bar(left, height5, bottom=height1 + height2 + height4, color=\"#d5d5d5\")\n",
        "ax.legend((p1[0], p2[0], p3[0], p4[0], p5[0]), (\"knowledge\", \"experience\", \"bonus\", \"base_score\"))\n",
        "fig.suptitle(\"id:\"+ str(ii+1) + \"   type:\" + sli.year_rank())\n",
        "labels = [\"\",\"\",\"cat1\",\"\",\"cat2\", \"\",\"cat3\",\"\", \"all\"]\n",
        "ax.set_xticklabels(labels)"
      ],
      "execution_count": 271,
      "outputs": [
        {
          "output_type": "execute_result",
          "data": {
            "text/plain": [
              "[Text(0, 0, ''),\n",
              " Text(0, 0, ''),\n",
              " Text(0, 0, 'cat1'),\n",
              " Text(0, 0, ''),\n",
              " Text(0, 0, 'cat2'),\n",
              " Text(0, 0, ''),\n",
              " Text(0, 0, 'cat3'),\n",
              " Text(0, 0, ''),\n",
              " Text(0, 0, 'all')]"
            ]
          },
          "metadata": {
            "tags": []
          },
          "execution_count": 271
        },
        {
          "output_type": "display_data",
          "data": {
            "image/png": "[encoded data removed]",
            "text/plain": [
              "<Figure size 504x504 with 1 Axes>"
            ]
          },
          "metadata": {
            "tags": []
          }
        }
      ]
    },
    {
      "cell_type": "code",
      "metadata": {
        "id": "jJD0W79fwm41",
        "colab_type": "code",
        "colab": {
          "base_uri": "https://localhost:8080/",
          "height": 641
        },
        "outputId": "4d309bbb-fbbb-40cd-e4a2-e81d3dfbc7d2"
      },
      "source": [
        "ii = 3\n",
        "sli = scores_list[ii]\n",
        "left = np.array([0, 1, 2, 3])\n",
        "height1 = np.array([sli.cat1_lanlib, sli.cat2_lanlib, 0, 0])\n",
        "height2 = np.array([sli.cat1_exp, sli.cat2_exp, sli.cat3_exp , 0])\n",
        "height3 = np.array([0, 0, 0 , sli.all_score / sli.op_sum])\n",
        "height4 = np.array([0, 0, 0 , sli.all_score])\n",
        "height5 = np.array([80 - sli.cat1_exp - sli.cat1_lanlib, 130 - sli.cat2_lanlib - sli.cat2_exp, 50 - sli.cat3_exp, 390 - sli.all_score])\n",
        "\n",
        "fig = plt.figure(figsize=(7, 7))\n",
        "ax = fig.add_subplot(111)\n",
        "\n",
        "p1 = ax.bar(left, height1, color=\"blue\")\n",
        "p2 = ax.bar(left, height2, bottom=height1, color=\"green\")\n",
        "p3 = ax.bar(left, height4, bottom=height1 + height2, color=\"red\")\n",
        "p4 = ax.bar(left, height3, bottom=height1 + height2, color=\"#ffa500\")\n",
        "p5 = ax.bar(left, height5, bottom=height1 + height2 + height4, color=\"#d5d5d5\")\n",
        "ax.legend((p1[0], p2[0], p3[0], p4[0], p5[0]), (\"knowledge\", \"experience\", \"bonus\", \"base_score\"))\n",
        "fig.suptitle(\"id:\"+ str(ii+1) + \"   type:\" + sli.year_rank())\n",
        "labels = [\"\",\"\",\"cat1\",\"\",\"cat2\", \"\",\"cat3\",\"\", \"all\"]\n",
        "ax.set_xticklabels(labels)"
      ],
      "execution_count": 272,
      "outputs": [
        {
          "output_type": "execute_result",
          "data": {
            "text/plain": [
              "[Text(0, 0, ''),\n",
              " Text(0, 0, ''),\n",
              " Text(0, 0, 'cat1'),\n",
              " Text(0, 0, ''),\n",
              " Text(0, 0, 'cat2'),\n",
              " Text(0, 0, ''),\n",
              " Text(0, 0, 'cat3'),\n",
              " Text(0, 0, ''),\n",
              " Text(0, 0, 'all')]"
            ]
          },
          "metadata": {
            "tags": []
          },
          "execution_count": 272
        },
        {
          "output_type": "display_data",
          "data": {
            "image/png": "[encoded data removed]",
            "text/plain": [
              "<Figure size 504x504 with 1 Axes>"
            ]
          },
          "metadata": {
            "tags": []
          }
        }
      ]
    },
    {
      "cell_type": "code",
      "metadata": {
        "id": "arGtrwi8wuoi",
        "colab_type": "code",
        "colab": {
          "base_uri": "https://localhost:8080/",
          "height": 641
        },
        "outputId": "cb00038f-4dcb-4a60-caab-cf5d1d86e670"
      },
      "source": [
        "ii = 4\n",
        "sli = scores_list[ii]\n",
        "left = np.array([0, 1, 2, 3])\n",
        "height1 = np.array([sli.cat1_lanlib, sli.cat2_lanlib, 0, 0])\n",
        "height2 = np.array([sli.cat1_exp, sli.cat2_exp, sli.cat3_exp , 0])\n",
        "height3 = np.array([0, 0, 0 , sli.all_score / sli.op_sum])\n",
        "height4 = np.array([0, 0, 0 , sli.all_score])\n",
        "height5 = np.array([80 - sli.cat1_exp - sli.cat1_lanlib, 130 - sli.cat2_lanlib - sli.cat2_exp, 50 - sli.cat3_exp, 390 - sli.all_score])\n",
        "\n",
        "fig = plt.figure(figsize=(7, 7))\n",
        "ax = fig.add_subplot(111)\n",
        "\n",
        "p1 = ax.bar(left, height1, color=\"blue\")\n",
        "p2 = ax.bar(left, height2, bottom=height1, color=\"green\")\n",
        "p3 = ax.bar(left, height4, bottom=height1 + height2, color=\"red\")\n",
        "p4 = ax.bar(left, height3, bottom=height1 + height2, color=\"#ffa500\")\n",
        "p5 = ax.bar(left, height5, bottom=height1 + height2 + height4, color=\"#d5d5d5\")\n",
        "ax.legend((p1[0], p2[0], p3[0], p4[0], p5[0]), (\"knowledge\", \"experience\", \"bonus\", \"base_score\"))\n",
        "fig.suptitle(\"id:\"+ str(ii+1) + \"   type:\" + sli.year_rank())\n",
        "labels = [\"\",\"\",\"cat1\",\"\",\"cat2\", \"\",\"cat3\",\"\", \"all\"]\n",
        "ax.set_xticklabels(labels)"
      ],
      "execution_count": 273,
      "outputs": [
        {
          "output_type": "execute_result",
          "data": {
            "text/plain": [
              "[Text(0, 0, ''),\n",
              " Text(0, 0, ''),\n",
              " Text(0, 0, 'cat1'),\n",
              " Text(0, 0, ''),\n",
              " Text(0, 0, 'cat2'),\n",
              " Text(0, 0, ''),\n",
              " Text(0, 0, 'cat3'),\n",
              " Text(0, 0, ''),\n",
              " Text(0, 0, 'all')]"
            ]
          },
          "metadata": {
            "tags": []
          },
          "execution_count": 273
        },
        {
          "output_type": "display_data",
          "data": {
            "image/png": "[encoded data removed]",
            "text/plain": [
              "<Figure size 504x504 with 1 Axes>"
            ]
          },
          "metadata": {
            "tags": []
          }
        }
      ]
    },
    {
      "cell_type": "code",
      "metadata": {
        "id": "XTQfJQyhw1DJ",
        "colab_type": "code",
        "colab": {
          "base_uri": "https://localhost:8080/",
          "height": 641
        },
        "outputId": "71c58d66-319b-4762-a101-6712ea704f20"
      },
      "source": [
        "ii = 5\n",
        "sli = scores_list[ii]\n",
        "left = np.array([0, 1, 2, 3])\n",
        "height1 = np.array([sli.cat1_lanlib, sli.cat2_lanlib, 0, 0])\n",
        "height2 = np.array([sli.cat1_exp, sli.cat2_exp, sli.cat3_exp , 0])\n",
        "height3 = np.array([0, 0, 0 , sli.all_score / sli.op_sum])\n",
        "height4 = np.array([0, 0, 0 , sli.all_score])\n",
        "height5 = np.array([80 - sli.cat1_exp - sli.cat1_lanlib, 130 - sli.cat2_lanlib - sli.cat2_exp, 50 - sli.cat3_exp, 390 - sli.all_score])\n",
        "\n",
        "fig = plt.figure(figsize=(7, 7))\n",
        "ax = fig.add_subplot(111)\n",
        "\n",
        "p1 = ax.bar(left, height1, color=\"blue\")\n",
        "p2 = ax.bar(left, height2, bottom=height1, color=\"green\")\n",
        "p3 = ax.bar(left, height4, bottom=height1 + height2, color=\"red\")\n",
        "p4 = ax.bar(left, height3, bottom=height1 + height2, color=\"#ffa500\")\n",
        "p5 = ax.bar(left, height5, bottom=height1 + height2 + height4, color=\"#d5d5d5\")\n",
        "ax.legend((p1[0], p2[0], p3[0], p4[0], p5[0]), (\"knowledge\", \"experience\", \"bonus\", \"base_score\"))\n",
        "fig.suptitle(\"id:\"+ str(ii+1) + \"   type:\" + sli.year_rank())\n",
        "labels = [\"\",\"\",\"cat1\",\"\",\"cat2\", \"\",\"cat3\",\"\", \"all\"]\n",
        "ax.set_xticklabels(labels)"
      ],
      "execution_count": 274,
      "outputs": [
        {
          "output_type": "execute_result",
          "data": {
            "text/plain": [
              "[Text(0, 0, ''),\n",
              " Text(0, 0, ''),\n",
              " Text(0, 0, 'cat1'),\n",
              " Text(0, 0, ''),\n",
              " Text(0, 0, 'cat2'),\n",
              " Text(0, 0, ''),\n",
              " Text(0, 0, 'cat3'),\n",
              " Text(0, 0, ''),\n",
              " Text(0, 0, 'all')]"
            ]
          },
          "metadata": {
            "tags": []
          },
          "execution_count": 274
        },
        {
          "output_type": "display_data",
          "data": {
            "image/png": "[encoded data removed]",
            "text/plain": [
              "<Figure size 504x504 with 1 Axes>"
            ]
          },
          "metadata": {
            "tags": []
          }
        }
      ]
    }
  ]
}